{
 "cells": [
  {
   "cell_type": "code",
   "execution_count": null,
   "metadata": {
    "collapsed": true
   },
   "outputs": [],
   "source": [
    "# paper-figures-rich-club-innovation.ipynb\n",
    "#\n",
    "# Bryan Daniels\n",
    "# 7.26.2018 branched from rich-club-innovation.ipynb\n",
    "# 5.16.2018\n",
    "#\n",
    "# Do more innovative papers appear at the periphery of bibliographic networks?"
   ]
  },
  {
   "cell_type": "code",
   "execution_count": 1,
   "metadata": {
    "collapsed": true
   },
   "outputs": [],
   "source": [
    "%matplotlib inline\n",
    "import pylab\n",
    "import toolbox.defaultFigure as defaultFigure\n",
    "defaultFigure.setDefaultParams()"
   ]
  },
  {
   "cell_type": "code",
   "execution_count": 2,
   "metadata": {
    "collapsed": true
   },
   "outputs": [],
   "source": [
    "import pandas as pd\n",
    "import numpy as np"
   ]
  },
  {
   "cell_type": "code",
   "execution_count": 3,
   "metadata": {
    "collapsed": true
   },
   "outputs": [],
   "source": [
    "from scipy.stats import ks_2samp,binom_test"
   ]
  },
  {
   "cell_type": "code",
   "execution_count": 4,
   "metadata": {
    "collapsed": true
   },
   "outputs": [],
   "source": [
    "def degrees(coupling):\n",
    "    \"\"\"\n",
    "    Given coupling dataframe, return series of degrees.\n",
    "    \n",
    "    Edges are currently defined as sharing a nonzero number of references.\n",
    "    (We throw away information about the number of shared references.)\n",
    "    \"\"\"\n",
    "    return (coupling>0).sum(axis=1)"
   ]
  },
  {
   "cell_type": "code",
   "execution_count": 5,
   "metadata": {
    "collapsed": true
   },
   "outputs": [],
   "source": [
    "def couplingSum(coupling):\n",
    "    return coupling.sum(axis=1)"
   ]
  },
  {
   "cell_type": "code",
   "execution_count": 6,
   "metadata": {
    "collapsed": true
   },
   "outputs": [],
   "source": [
    "def cdfPlot(allvalues,innovativevalues,samples=100):\n",
    "    \"\"\"\n",
    "    samples (100)         : if given a number of samples,\n",
    "                            also plot 90% confidence intervals \n",
    "                            corresponding to randomly choosing \n",
    "                            a subset of allvalues with same\n",
    "                            length as innovativevalues\n",
    "    \"\"\"\n",
    "    sortedvals = np.sort(allvalues)\n",
    "    Fvals = (np.array(range(len(sortedvals)))+1)/float(len(sortedvals))\n",
    "\n",
    "    sortedinnovativevals = np.sort(innovativevalues)\n",
    "    Finnovativevals = (np.array(range(len(sortedinnovativevals)))+1)/float(len(sortedinnovativevals))\n",
    "    \n",
    "    if samples > 0:\n",
    "        FrandomvalsAllList = []\n",
    "        for i in range(samples):\n",
    "            randomindices = np.random.choice(range(len(allvalues)),len(innovativevalues),replace=False)\n",
    "            #Frandomvals = (np.array(range(len(randomvals)))+1)/float(len(randomvals))\n",
    "            F = 0.\n",
    "            FrandomvalsAll = []\n",
    "            # the y-value for all unobserved points should be equal to the y-value of the closest\n",
    "            # point with smaller x-value\n",
    "            for idx in range(len(sortedvals)):\n",
    "                if idx in randomindices:\n",
    "                    F += 1./len(randomindices)\n",
    "                FrandomvalsAll.append(F)\n",
    "            FrandomvalsAllList.append(FrandomvalsAll)\n",
    "        defaultFigure.prettyConfInt(pylab.gca(),\n",
    "               sortedvals,\n",
    "               np.median(FrandomvalsAllList,axis=0),\n",
    "               np.percentile(FrandomvalsAllList,5,axis=0),\n",
    "               np.percentile(FrandomvalsAllList,95,axis=0),color='C0',ls='')    \n",
    "    \n",
    "    pylab.plot(sortedvals,Fvals,label='all papers',drawstyle='steps-post')\n",
    "    pylab.plot(sortedinnovativevals,Finnovativevals,label='innovative papers',drawstyle='steps-post')\n",
    "    pylab.legend()\n",
    "    pylab.axis(ymin=0,ymax=1)\n",
    "    #pylab.ylabel('Cumulative distribution function')\n",
    "    pylab.ylabel('Cumulative probability') # AKA 'Empirical distribution function'\n",
    "    pylab.subplots_adjust(bottom=0.15)"
   ]
  },
  {
   "cell_type": "markdown",
   "metadata": {},
   "source": [
    "# load data"
   ]
  },
  {
   "cell_type": "code",
   "execution_count": 15,
   "metadata": {
    "collapsed": true
   },
   "outputs": [],
   "source": [
    "# bibliographic coupling over all years\n",
    "coupling = pd.read_excel('Data/180426/Bibliographic_Coupling_Matrix.xlsx')"
   ]
  },
  {
   "cell_type": "code",
   "execution_count": 16,
   "metadata": {},
   "outputs": [
    {
     "name": "stdout",
     "output_type": "stream",
     "text": [
      "There are 6456 total papers in the corpus.\n"
     ]
    }
   ],
   "source": [
    "print \"There are\",len(coupling),\"total papers in the corpus.\""
   ]
  },
  {
   "cell_type": "code",
   "execution_count": 12,
   "metadata": {},
   "outputs": [
    {
     "data": {
      "text/plain": [
       "(0, 717.1500000000001, 0.698558595985743, 1869.5639957834728)"
      ]
     },
     "execution_count": 12,
     "metadata": {},
     "output_type": "execute_result"
    },
    {
     "data": {
      "image/png": "[encoded data removed]",
      "text/plain": [
       "<matplotlib.figure.Figure at 0x113f83790>"
      ]
     },
     "metadata": {},
     "output_type": "display_data"
    }
   ],
   "source": [
    "pylab.hist(degrees(coupling),bins=100,log=False);\n",
    "pylab.xlabel('Bibliographic coupling degree')\n",
    "pylab.ylabel('Count')\n",
    "pylab.yscale('log')\n",
    "pylab.axis(xmin=0)"
   ]
  },
  {
   "cell_type": "code",
   "execution_count": 245,
   "metadata": {},
   "outputs": [
    {
     "data": {
      "text/plain": [
       "(0, 1407.0000000000002, 0.6964349002883006, 1993.0075293834566)"
      ]
     },
     "execution_count": 245,
     "metadata": {},
     "output_type": "execute_result"
    },
    {
     "data": {
      "image/png": "[encoded data removed]",
      "text/plain": [
       "<matplotlib.figure.Figure at 0x11acf0f10>"
      ]
     },
     "metadata": {},
     "output_type": "display_data"
    }
   ],
   "source": [
    "pylab.hist(couplingSum(coupling),bins=100,log=False);\n",
    "pylab.xlabel('Bibliographic coupling sum')\n",
    "pylab.ylabel('Count')\n",
    "pylab.yscale('log')\n",
    "pylab.axis(xmin=0)"
   ]
  },
  {
   "cell_type": "code",
   "execution_count": 13,
   "metadata": {
    "collapsed": true
   },
   "outputs": [],
   "source": [
    "import scipy.stats"
   ]
  },
  {
   "cell_type": "code",
   "execution_count": 73,
   "metadata": {},
   "outputs": [
    {
     "name": "stdout",
     "output_type": "stream",
     "text": [
      "expon loc = -2.0985438449140102e-10 , scale = 62.74309614126372 , other params = ()\n",
      "powerlaw loc = -5.503873156844459e-25 , scale = 814.4324241704057 , other params = (0.3471531810788056,)\n"
     ]
    },
    {
     "data": {
      "image/png": "[encoded data removed]",
      "text/plain": [
       "<matplotlib.figure.Figure at 0x11a2dfed0>"
      ]
     },
     "metadata": {},
     "output_type": "display_data"
    }
   ],
   "source": [
    "# 8.15.2018 can we say roughly how bibliographic coupling degrees are distributed?\n",
    "\n",
    "# https://stackoverflow.com/questions/6620471/fitting-empirical-distribution-to-theoretical-ones-with-scipy-python\n",
    "\n",
    "dist_names = [ 'expon', 'powerlaw',  ] # 'lognorm', 'norm', 'gamma', 'beta', 'pareto', 'rayleigh'\n",
    "full_names = [ 'exponential', 'power law' ]\n",
    "\n",
    "y = degrees(coupling)\n",
    "size = len(y)\n",
    "x = np.arange(size)\n",
    "\n",
    "bins = 100\n",
    "h = pylab.hist(y, bins=bins, normed=False, log=False)\n",
    "\n",
    "if True: # fit continuous distributions\n",
    "    for dist_name,full_name in zip(dist_names,full_names):\n",
    "        dist = getattr(scipy.stats, dist_name)\n",
    "        param = dist.fit(y)\n",
    "        print dist_name, 'loc =', param[-2],', scale =',param[-1],', other params =',param[:-2]\n",
    "        pdf_fitted = dist.pdf(x, *param[:-2], loc=param[-2], scale=param[-1]) * size * max(y) / bins\n",
    "        pylab.plot(pdf_fitted, label=full_name, lw=2, ls='--')\n",
    "    pylab.legend(loc='upper right')\n",
    "    \n",
    "#pylab.xscale('log')\n",
    "pylab.yscale('log')\n",
    "#pylab.axis(ymin=2e-5,ymax=1e-1,xmin=0,xmax=max(y))\n",
    "pylab.axis(ymin=8e-1,ymax=1e4,xmin=0,xmax=max(y))\n",
    "\n",
    "pylab.xlabel('Bibliographic coupling degree')\n",
    "pylab.ylabel('Count')\n",
    "pylab.subplots_adjust(bottom=0.15)\n",
    "pylab.savefig('180815_bibliographic_coupling_degree_distribution.pdf')"
   ]
  },
  {
   "cell_type": "code",
   "execution_count": 14,
   "metadata": {
    "collapsed": true
   },
   "outputs": [],
   "source": [
    "# 6.7.2018 get years for all papers.  \n",
    "paperData = pd.read_excel('Data/180426/Bibliographic_Coupling_Matrix.xlsx',1)\n",
    "paperData['Year'] = paperData['Title'].apply(lambda t: int(t[-5:-1]))\n",
    "paperData.set_index('Name',inplace=True)"
   ]
  },
  {
   "cell_type": "code",
   "execution_count": 15,
   "metadata": {},
   "outputs": [
    {
     "data": {
      "text/html": [
       "<div>\n",
       "<style>\n",
       "    .dataframe thead tr:only-child th {\n",
       "        text-align: right;\n",
       "    }\n",
       "\n",
       "    .dataframe thead th {\n",
       "        text-align: left;\n",
       "    }\n",
       "\n",
       "    .dataframe tbody tr th {\n",
       "        vertical-align: top;\n",
       "    }\n",
       "</style>\n",
       "<table border=\"1\" class=\"dataframe\">\n",
       "  <thead>\n",
       "    <tr style=\"text-align: right;\">\n",
       "      <th></th>\n",
       "      <th>Title</th>\n",
       "      <th>x-coordinate</th>\n",
       "      <th>y-coordinate</th>\n",
       "      <th>Year</th>\n",
       "    </tr>\n",
       "    <tr>\n",
       "      <th>Name</th>\n",
       "      <th></th>\n",
       "      <th></th>\n",
       "      <th></th>\n",
       "      <th></th>\n",
       "    </tr>\n",
       "  </thead>\n",
       "  <tbody>\n",
       "    <tr>\n",
       "      <th>1</th>\n",
       "      <td>abegglen (2015)</td>\n",
       "      <td>-0.0160</td>\n",
       "      <td>-0.1202</td>\n",
       "      <td>2015</td>\n",
       "    </tr>\n",
       "    <tr>\n",
       "      <th>2</th>\n",
       "      <td>cohen (2015)</td>\n",
       "      <td>-0.0514</td>\n",
       "      <td>-0.1099</td>\n",
       "      <td>2015</td>\n",
       "    </tr>\n",
       "    <tr>\n",
       "      <th>3</th>\n",
       "      <td>monument (2014)</td>\n",
       "      <td>-0.0954</td>\n",
       "      <td>-0.1114</td>\n",
       "      <td>2014</td>\n",
       "    </tr>\n",
       "    <tr>\n",
       "      <th>4</th>\n",
       "      <td>garza (2009)</td>\n",
       "      <td>0.0572</td>\n",
       "      <td>0.1993</td>\n",
       "      <td>2009</td>\n",
       "    </tr>\n",
       "    <tr>\n",
       "      <th>5</th>\n",
       "      <td>nelson (2015)</td>\n",
       "      <td>0.0305</td>\n",
       "      <td>0.1847</td>\n",
       "      <td>2015</td>\n",
       "    </tr>\n",
       "  </tbody>\n",
       "</table>\n",
       "</div>"
      ],
      "text/plain": [
       "                Title  x-coordinate  y-coordinate  Year\n",
       "Name                                                   \n",
       "1     abegglen (2015)       -0.0160       -0.1202  2015\n",
       "2        cohen (2015)       -0.0514       -0.1099  2015\n",
       "3     monument (2014)       -0.0954       -0.1114  2014\n",
       "4        garza (2009)        0.0572        0.1993  2009\n",
       "5       nelson (2015)        0.0305        0.1847  2015"
      ]
     },
     "execution_count": 15,
     "metadata": {},
     "output_type": "execute_result"
    }
   ],
   "source": [
    "paperData.head()"
   ]
  },
  {
   "cell_type": "code",
   "execution_count": 16,
   "metadata": {},
   "outputs": [
    {
     "name": "stdout",
     "output_type": "stream",
     "text": [
      "[1971 1973 1974 1975 1976 1977 1978 1979 1980 1981 1982 1983 1984 1985\n",
      " 1986 1988 1989 1990 1993 1994 1995 1996 1997 1998 1999 2000 2001 2002\n",
      " 2003 2004 2005 2006 2007 2008 2009 2010 2011 2012 2013 2014 2015 2016\n",
      " 2017]\n"
     ]
    }
   ],
   "source": [
    "# these are the years we've got\n",
    "years = np.sort(paperData['Year'].unique())\n",
    "print years"
   ]
  },
  {
   "cell_type": "code",
   "execution_count": 17,
   "metadata": {
    "collapsed": true
   },
   "outputs": [],
   "source": [
    "# calculate bibiographic coupling to papers published anytime before the same year\n",
    "couplingByYear = {}\n",
    "for year in years:\n",
    "    papers = list( paperData[paperData['Year'] <= year].index )\n",
    "    couplingByYear[year] = coupling.loc[papers,papers]"
   ]
  },
  {
   "cell_type": "code",
   "execution_count": 18,
   "metadata": {
    "collapsed": true
   },
   "outputs": [],
   "source": [
    "# 7.25.2018 also calculate bibiographic coupling to papers published anytime before two (or five) years later\n",
    "couplingByYearPlus = {}\n",
    "deltaTime = 5 #2 #2 #5 #2 # years\n",
    "for year in years:\n",
    "    papers = list( paperData[paperData['Year'] <= year ].index )\n",
    "    papersPlus = list( paperData[paperData['Year'] <= year + deltaTime].index )\n",
    "    couplingByYearPlus[year] = coupling.loc[papers,papersPlus]"
   ]
  },
  {
   "cell_type": "code",
   "execution_count": 19,
   "metadata": {},
   "outputs": [
    {
     "data": {
      "text/html": [
       "<div>\n",
       "<style>\n",
       "    .dataframe thead tr:only-child th {\n",
       "        text-align: right;\n",
       "    }\n",
       "\n",
       "    .dataframe thead th {\n",
       "        text-align: left;\n",
       "    }\n",
       "\n",
       "    .dataframe tbody tr th {\n",
       "        vertical-align: top;\n",
       "    }\n",
       "</style>\n",
       "<table border=\"1\" class=\"dataframe\">\n",
       "  <thead>\n",
       "    <tr style=\"text-align: right;\">\n",
       "      <th></th>\n",
       "      <th>5266</th>\n",
       "      <th>5267</th>\n",
       "      <th>5268</th>\n",
       "      <th>5269</th>\n",
       "      <th>5270</th>\n",
       "      <th>5271</th>\n",
       "      <th>5272</th>\n",
       "      <th>5273</th>\n",
       "    </tr>\n",
       "  </thead>\n",
       "  <tbody>\n",
       "    <tr>\n",
       "      <th>5266</th>\n",
       "      <td>NaN</td>\n",
       "      <td>5.0</td>\n",
       "      <td>1.0</td>\n",
       "      <td>NaN</td>\n",
       "      <td>4.0</td>\n",
       "      <td>3.0</td>\n",
       "      <td>NaN</td>\n",
       "      <td>NaN</td>\n",
       "    </tr>\n",
       "    <tr>\n",
       "      <th>5267</th>\n",
       "      <td>5.0</td>\n",
       "      <td>NaN</td>\n",
       "      <td>1.0</td>\n",
       "      <td>NaN</td>\n",
       "      <td>2.0</td>\n",
       "      <td>5.0</td>\n",
       "      <td>NaN</td>\n",
       "      <td>NaN</td>\n",
       "    </tr>\n",
       "    <tr>\n",
       "      <th>5268</th>\n",
       "      <td>1.0</td>\n",
       "      <td>1.0</td>\n",
       "      <td>NaN</td>\n",
       "      <td>NaN</td>\n",
       "      <td>1.0</td>\n",
       "      <td>1.0</td>\n",
       "      <td>NaN</td>\n",
       "      <td>NaN</td>\n",
       "    </tr>\n",
       "    <tr>\n",
       "      <th>5269</th>\n",
       "      <td>NaN</td>\n",
       "      <td>NaN</td>\n",
       "      <td>NaN</td>\n",
       "      <td>NaN</td>\n",
       "      <td>NaN</td>\n",
       "      <td>NaN</td>\n",
       "      <td>NaN</td>\n",
       "      <td>2.0</td>\n",
       "    </tr>\n",
       "    <tr>\n",
       "      <th>5270</th>\n",
       "      <td>4.0</td>\n",
       "      <td>2.0</td>\n",
       "      <td>1.0</td>\n",
       "      <td>NaN</td>\n",
       "      <td>NaN</td>\n",
       "      <td>2.0</td>\n",
       "      <td>NaN</td>\n",
       "      <td>NaN</td>\n",
       "    </tr>\n",
       "    <tr>\n",
       "      <th>5271</th>\n",
       "      <td>3.0</td>\n",
       "      <td>5.0</td>\n",
       "      <td>1.0</td>\n",
       "      <td>NaN</td>\n",
       "      <td>2.0</td>\n",
       "      <td>NaN</td>\n",
       "      <td>NaN</td>\n",
       "      <td>NaN</td>\n",
       "    </tr>\n",
       "    <tr>\n",
       "      <th>5272</th>\n",
       "      <td>NaN</td>\n",
       "      <td>NaN</td>\n",
       "      <td>NaN</td>\n",
       "      <td>NaN</td>\n",
       "      <td>NaN</td>\n",
       "      <td>NaN</td>\n",
       "      <td>NaN</td>\n",
       "      <td>NaN</td>\n",
       "    </tr>\n",
       "    <tr>\n",
       "      <th>5273</th>\n",
       "      <td>NaN</td>\n",
       "      <td>NaN</td>\n",
       "      <td>NaN</td>\n",
       "      <td>2.0</td>\n",
       "      <td>NaN</td>\n",
       "      <td>NaN</td>\n",
       "      <td>NaN</td>\n",
       "      <td>NaN</td>\n",
       "    </tr>\n",
       "  </tbody>\n",
       "</table>\n",
       "</div>"
      ],
      "text/plain": [
       "      5266  5267  5268  5269  5270  5271  5272  5273\n",
       "5266   NaN   5.0   1.0   NaN   4.0   3.0   NaN   NaN\n",
       "5267   5.0   NaN   1.0   NaN   2.0   5.0   NaN   NaN\n",
       "5268   1.0   1.0   NaN   NaN   1.0   1.0   NaN   NaN\n",
       "5269   NaN   NaN   NaN   NaN   NaN   NaN   NaN   2.0\n",
       "5270   4.0   2.0   1.0   NaN   NaN   2.0   NaN   NaN\n",
       "5271   3.0   5.0   1.0   NaN   2.0   NaN   NaN   NaN\n",
       "5272   NaN   NaN   NaN   NaN   NaN   NaN   NaN   NaN\n",
       "5273   NaN   NaN   NaN   2.0   NaN   NaN   NaN   NaN"
      ]
     },
     "execution_count": 19,
     "metadata": {},
     "output_type": "execute_result"
    }
   ],
   "source": [
    "couplingByYear[1975]"
   ]
  },
  {
   "cell_type": "code",
   "execution_count": 20,
   "metadata": {},
   "outputs": [
    {
     "data": {
      "text/html": [
       "<div>\n",
       "<style>\n",
       "    .dataframe thead tr:only-child th {\n",
       "        text-align: right;\n",
       "    }\n",
       "\n",
       "    .dataframe thead th {\n",
       "        text-align: left;\n",
       "    }\n",
       "\n",
       "    .dataframe tbody tr th {\n",
       "        vertical-align: top;\n",
       "    }\n",
       "</style>\n",
       "<table border=\"1\" class=\"dataframe\">\n",
       "  <thead>\n",
       "    <tr style=\"text-align: right;\">\n",
       "      <th></th>\n",
       "      <th>2297</th>\n",
       "      <th>5257</th>\n",
       "      <th>5258</th>\n",
       "      <th>5259</th>\n",
       "      <th>5260</th>\n",
       "      <th>5261</th>\n",
       "      <th>5262</th>\n",
       "      <th>5263</th>\n",
       "      <th>5264</th>\n",
       "      <th>5265</th>\n",
       "      <th>5266</th>\n",
       "      <th>5267</th>\n",
       "      <th>5268</th>\n",
       "      <th>5269</th>\n",
       "      <th>5270</th>\n",
       "      <th>5271</th>\n",
       "      <th>5272</th>\n",
       "      <th>5273</th>\n",
       "    </tr>\n",
       "  </thead>\n",
       "  <tbody>\n",
       "    <tr>\n",
       "      <th>5266</th>\n",
       "      <td>NaN</td>\n",
       "      <td>NaN</td>\n",
       "      <td>NaN</td>\n",
       "      <td>1.0</td>\n",
       "      <td>NaN</td>\n",
       "      <td>NaN</td>\n",
       "      <td>NaN</td>\n",
       "      <td>NaN</td>\n",
       "      <td>NaN</td>\n",
       "      <td>6.0</td>\n",
       "      <td>NaN</td>\n",
       "      <td>5.0</td>\n",
       "      <td>1.0</td>\n",
       "      <td>NaN</td>\n",
       "      <td>4.0</td>\n",
       "      <td>3.0</td>\n",
       "      <td>NaN</td>\n",
       "      <td>NaN</td>\n",
       "    </tr>\n",
       "    <tr>\n",
       "      <th>5267</th>\n",
       "      <td>NaN</td>\n",
       "      <td>NaN</td>\n",
       "      <td>NaN</td>\n",
       "      <td>1.0</td>\n",
       "      <td>NaN</td>\n",
       "      <td>NaN</td>\n",
       "      <td>NaN</td>\n",
       "      <td>NaN</td>\n",
       "      <td>NaN</td>\n",
       "      <td>8.0</td>\n",
       "      <td>5.0</td>\n",
       "      <td>NaN</td>\n",
       "      <td>1.0</td>\n",
       "      <td>NaN</td>\n",
       "      <td>2.0</td>\n",
       "      <td>5.0</td>\n",
       "      <td>NaN</td>\n",
       "      <td>NaN</td>\n",
       "    </tr>\n",
       "    <tr>\n",
       "      <th>5268</th>\n",
       "      <td>NaN</td>\n",
       "      <td>NaN</td>\n",
       "      <td>NaN</td>\n",
       "      <td>NaN</td>\n",
       "      <td>NaN</td>\n",
       "      <td>NaN</td>\n",
       "      <td>NaN</td>\n",
       "      <td>NaN</td>\n",
       "      <td>NaN</td>\n",
       "      <td>1.0</td>\n",
       "      <td>1.0</td>\n",
       "      <td>1.0</td>\n",
       "      <td>NaN</td>\n",
       "      <td>NaN</td>\n",
       "      <td>1.0</td>\n",
       "      <td>1.0</td>\n",
       "      <td>NaN</td>\n",
       "      <td>NaN</td>\n",
       "    </tr>\n",
       "    <tr>\n",
       "      <th>5269</th>\n",
       "      <td>NaN</td>\n",
       "      <td>NaN</td>\n",
       "      <td>NaN</td>\n",
       "      <td>NaN</td>\n",
       "      <td>1.0</td>\n",
       "      <td>2.0</td>\n",
       "      <td>NaN</td>\n",
       "      <td>NaN</td>\n",
       "      <td>2.0</td>\n",
       "      <td>NaN</td>\n",
       "      <td>NaN</td>\n",
       "      <td>NaN</td>\n",
       "      <td>NaN</td>\n",
       "      <td>NaN</td>\n",
       "      <td>NaN</td>\n",
       "      <td>NaN</td>\n",
       "      <td>NaN</td>\n",
       "      <td>2.0</td>\n",
       "    </tr>\n",
       "    <tr>\n",
       "      <th>5270</th>\n",
       "      <td>NaN</td>\n",
       "      <td>1.0</td>\n",
       "      <td>NaN</td>\n",
       "      <td>3.0</td>\n",
       "      <td>NaN</td>\n",
       "      <td>NaN</td>\n",
       "      <td>NaN</td>\n",
       "      <td>NaN</td>\n",
       "      <td>NaN</td>\n",
       "      <td>3.0</td>\n",
       "      <td>4.0</td>\n",
       "      <td>2.0</td>\n",
       "      <td>1.0</td>\n",
       "      <td>NaN</td>\n",
       "      <td>NaN</td>\n",
       "      <td>2.0</td>\n",
       "      <td>NaN</td>\n",
       "      <td>NaN</td>\n",
       "    </tr>\n",
       "    <tr>\n",
       "      <th>5271</th>\n",
       "      <td>NaN</td>\n",
       "      <td>1.0</td>\n",
       "      <td>NaN</td>\n",
       "      <td>3.0</td>\n",
       "      <td>NaN</td>\n",
       "      <td>NaN</td>\n",
       "      <td>NaN</td>\n",
       "      <td>NaN</td>\n",
       "      <td>NaN</td>\n",
       "      <td>7.0</td>\n",
       "      <td>3.0</td>\n",
       "      <td>5.0</td>\n",
       "      <td>1.0</td>\n",
       "      <td>NaN</td>\n",
       "      <td>2.0</td>\n",
       "      <td>NaN</td>\n",
       "      <td>NaN</td>\n",
       "      <td>NaN</td>\n",
       "    </tr>\n",
       "    <tr>\n",
       "      <th>5272</th>\n",
       "      <td>NaN</td>\n",
       "      <td>NaN</td>\n",
       "      <td>NaN</td>\n",
       "      <td>NaN</td>\n",
       "      <td>NaN</td>\n",
       "      <td>NaN</td>\n",
       "      <td>NaN</td>\n",
       "      <td>NaN</td>\n",
       "      <td>NaN</td>\n",
       "      <td>NaN</td>\n",
       "      <td>NaN</td>\n",
       "      <td>NaN</td>\n",
       "      <td>NaN</td>\n",
       "      <td>NaN</td>\n",
       "      <td>NaN</td>\n",
       "      <td>NaN</td>\n",
       "      <td>NaN</td>\n",
       "      <td>NaN</td>\n",
       "    </tr>\n",
       "    <tr>\n",
       "      <th>5273</th>\n",
       "      <td>NaN</td>\n",
       "      <td>NaN</td>\n",
       "      <td>NaN</td>\n",
       "      <td>NaN</td>\n",
       "      <td>1.0</td>\n",
       "      <td>1.0</td>\n",
       "      <td>NaN</td>\n",
       "      <td>NaN</td>\n",
       "      <td>3.0</td>\n",
       "      <td>NaN</td>\n",
       "      <td>NaN</td>\n",
       "      <td>NaN</td>\n",
       "      <td>NaN</td>\n",
       "      <td>2.0</td>\n",
       "      <td>NaN</td>\n",
       "      <td>NaN</td>\n",
       "      <td>NaN</td>\n",
       "      <td>NaN</td>\n",
       "    </tr>\n",
       "  </tbody>\n",
       "</table>\n",
       "</div>"
      ],
      "text/plain": [
       "      2297  5257  5258  5259  5260  5261  5262  5263  5264  5265  5266  5267  \\\n",
       "5266   NaN   NaN   NaN   1.0   NaN   NaN   NaN   NaN   NaN   6.0   NaN   5.0   \n",
       "5267   NaN   NaN   NaN   1.0   NaN   NaN   NaN   NaN   NaN   8.0   5.0   NaN   \n",
       "5268   NaN   NaN   NaN   NaN   NaN   NaN   NaN   NaN   NaN   1.0   1.0   1.0   \n",
       "5269   NaN   NaN   NaN   NaN   1.0   2.0   NaN   NaN   2.0   NaN   NaN   NaN   \n",
       "5270   NaN   1.0   NaN   3.0   NaN   NaN   NaN   NaN   NaN   3.0   4.0   2.0   \n",
       "5271   NaN   1.0   NaN   3.0   NaN   NaN   NaN   NaN   NaN   7.0   3.0   5.0   \n",
       "5272   NaN   NaN   NaN   NaN   NaN   NaN   NaN   NaN   NaN   NaN   NaN   NaN   \n",
       "5273   NaN   NaN   NaN   NaN   1.0   1.0   NaN   NaN   3.0   NaN   NaN   NaN   \n",
       "\n",
       "      5268  5269  5270  5271  5272  5273  \n",
       "5266   1.0   NaN   4.0   3.0   NaN   NaN  \n",
       "5267   1.0   NaN   2.0   5.0   NaN   NaN  \n",
       "5268   NaN   NaN   1.0   1.0   NaN   NaN  \n",
       "5269   NaN   NaN   NaN   NaN   NaN   2.0  \n",
       "5270   1.0   NaN   NaN   2.0   NaN   NaN  \n",
       "5271   1.0   NaN   2.0   NaN   NaN   NaN  \n",
       "5272   NaN   NaN   NaN   NaN   NaN   NaN  \n",
       "5273   NaN   2.0   NaN   NaN   NaN   NaN  "
      ]
     },
     "execution_count": 20,
     "metadata": {},
     "output_type": "execute_result"
    }
   ],
   "source": [
    "couplingByYearPlus[1975]"
   ]
  },
  {
   "cell_type": "code",
   "execution_count": 21,
   "metadata": {},
   "outputs": [
    {
     "data": {
      "text/plain": [
       "5266     7.0\n",
       "5267     9.0\n",
       "5268     1.0\n",
       "5269     5.0\n",
       "5270     7.0\n",
       "5271    11.0\n",
       "5272     0.0\n",
       "5273     5.0\n",
       "dtype: float64"
      ]
     },
     "execution_count": 21,
     "metadata": {},
     "output_type": "execute_result"
    }
   ],
   "source": [
    "# example calculating the number of additional bibliographic coupling links gained\n",
    "# by each paper published in 1975 in the two subsequent years\n",
    "couplingByYearPlus[1975].sum(axis=1) - couplingByYear[1975].sum(axis=1)"
   ]
  },
  {
   "cell_type": "code",
   "execution_count": null,
   "metadata": {
    "collapsed": true
   },
   "outputs": [],
   "source": []
  },
  {
   "cell_type": "code",
   "execution_count": null,
   "metadata": {
    "collapsed": true
   },
   "outputs": [],
   "source": []
  },
  {
   "cell_type": "code",
   "execution_count": null,
   "metadata": {
    "collapsed": true
   },
   "outputs": [],
   "source": []
  },
  {
   "cell_type": "markdown",
   "metadata": {
    "collapsed": true
   },
   "source": [
    "# 5.31.2018 check where Deryc's 100 \"innovative\" papers fall"
   ]
  },
  {
   "cell_type": "code",
   "execution_count": 166,
   "metadata": {
    "collapsed": true
   },
   "outputs": [],
   "source": [
    "# # 50 innovative papers\n",
    "# #innovativeIDs = np.loadtxt('Data/180531/PaperIDs.txt',skiprows=1,dtype=int)\n",
    "# # 50 innovative papers that occur post-2006\n",
    "# rawdata = np.loadtxt('Data/180612/PaperIDs_post2006.txt',skiprows=1,dtype=str,delimiter=',')\n",
    "# rawdata = filter(lambda row: row != 'New',rawdata)\n",
    "# rawdata = [ row.split() for row in rawdata ]\n",
    "# innovativeIDs50 = np.array([row[0] for row in rawdata],dtype=int)\n",
    "# innovativeNames50 = [row[1]+\" \"+row[2] for row in rawdata]"
   ]
  },
  {
   "cell_type": "code",
   "execution_count": 22,
   "metadata": {
    "collapsed": true
   },
   "outputs": [],
   "source": [
    "# 7.25.2018\n",
    "# 100 innovative papers\n",
    "#innovative100raw = pd.read_csv('Data/180621/InnovativePapers_Top100_Post2006.csv')\n",
    "innovative100raw = pd.read_csv('Data/180808/InnovativePapers_Top100_Post2006-editedBCD.csv')\n",
    "innovativeIDs100 = np.array(innovative100raw['ID numbers'])\n",
    "innovativeNames100 = innovative100raw['First Author']\n",
    "innovativeYears100 = innovative100raw['Year']"
   ]
  },
  {
   "cell_type": "code",
   "execution_count": 23,
   "metadata": {
    "collapsed": true
   },
   "outputs": [],
   "source": [
    "# choose the list of innovative papers to use\n",
    "innovativeIDs = innovativeIDs100 # innovativeIDs50\n",
    "innovativeNames = innovativeNames100 # innovativeNames50"
   ]
  },
  {
   "cell_type": "code",
   "execution_count": 24,
   "metadata": {
    "collapsed": true
   },
   "outputs": [],
   "source": [
    "innovativeIDsByYear = {}\n",
    "innovativeNamesByYear = {}\n",
    "for year in years:\n",
    "    innovativeIDsByYear[year] = filter(lambda id: paperData['Year'][id] == year,innovativeIDs)\n",
    "    innovativeIndices = filter(lambda idx: paperData['Year'][innovativeIDs[idx]] == year,range(len(innovativeIDs)))\n",
    "    innovativeNamesByYear[year] = [ innovativeNames[idx] for idx in innovativeIndices ]\n",
    "\n",
    "# double-check we have all of them\n",
    "assert(len(innovativeIDs) == np.sum([len(ids) for ids in innovativeIDsByYear.values()]))"
   ]
  },
  {
   "cell_type": "code",
   "execution_count": 25,
   "metadata": {},
   "outputs": [
    {
     "data": {
      "text/plain": [
       "100"
      ]
     },
     "execution_count": 25,
     "metadata": {},
     "output_type": "execute_result"
    }
   ],
   "source": [
    "len(innovativeIDs)"
   ]
  },
  {
   "cell_type": "code",
   "execution_count": 26,
   "metadata": {},
   "outputs": [
    {
     "data": {
      "text/plain": [
       "['thompson', 'thompson', 'martin', 'martin', 'martin']"
      ]
     },
     "execution_count": 26,
     "metadata": {},
     "output_type": "execute_result"
    }
   ],
   "source": [
    "innovativeNamesByYear[2007][:5]"
   ]
  },
  {
   "cell_type": "code",
   "execution_count": 27,
   "metadata": {},
   "outputs": [
    {
     "data": {
      "text/html": [
       "<div>\n",
       "<style>\n",
       "    .dataframe thead tr:only-child th {\n",
       "        text-align: right;\n",
       "    }\n",
       "\n",
       "    .dataframe thead th {\n",
       "        text-align: left;\n",
       "    }\n",
       "\n",
       "    .dataframe tbody tr th {\n",
       "        vertical-align: top;\n",
       "    }\n",
       "</style>\n",
       "<table border=\"1\" class=\"dataframe\">\n",
       "  <thead>\n",
       "    <tr style=\"text-align: right;\">\n",
       "      <th></th>\n",
       "      <th>Title</th>\n",
       "      <th>x-coordinate</th>\n",
       "      <th>y-coordinate</th>\n",
       "      <th>Year</th>\n",
       "    </tr>\n",
       "    <tr>\n",
       "      <th>Name</th>\n",
       "      <th></th>\n",
       "      <th></th>\n",
       "      <th></th>\n",
       "      <th></th>\n",
       "    </tr>\n",
       "  </thead>\n",
       "  <tbody>\n",
       "    <tr>\n",
       "      <th>424</th>\n",
       "      <td>thompson (2007)</td>\n",
       "      <td>-0.3446</td>\n",
       "      <td>-0.0862</td>\n",
       "      <td>2007</td>\n",
       "    </tr>\n",
       "    <tr>\n",
       "      <th>1493</th>\n",
       "      <td>thompson (2007)</td>\n",
       "      <td>-0.2264</td>\n",
       "      <td>0.2531</td>\n",
       "      <td>2007</td>\n",
       "    </tr>\n",
       "    <tr>\n",
       "      <th>4086</th>\n",
       "      <td>martin (2007)</td>\n",
       "      <td>3.6420</td>\n",
       "      <td>2.2837</td>\n",
       "      <td>2007</td>\n",
       "    </tr>\n",
       "    <tr>\n",
       "      <th>4087</th>\n",
       "      <td>martin (2007)</td>\n",
       "      <td>-0.3149</td>\n",
       "      <td>-0.1601</td>\n",
       "      <td>2007</td>\n",
       "    </tr>\n",
       "    <tr>\n",
       "      <th>4088</th>\n",
       "      <td>martin (2007)</td>\n",
       "      <td>-0.2475</td>\n",
       "      <td>0.0489</td>\n",
       "      <td>2007</td>\n",
       "    </tr>\n",
       "  </tbody>\n",
       "</table>\n",
       "</div>"
      ],
      "text/plain": [
       "                Title  x-coordinate  y-coordinate  Year\n",
       "Name                                                   \n",
       "424   thompson (2007)       -0.3446       -0.0862  2007\n",
       "1493  thompson (2007)       -0.2264        0.2531  2007\n",
       "4086    martin (2007)        3.6420        2.2837  2007\n",
       "4087    martin (2007)       -0.3149       -0.1601  2007\n",
       "4088    martin (2007)       -0.2475        0.0489  2007"
      ]
     },
     "execution_count": 27,
     "metadata": {},
     "output_type": "execute_result"
    }
   ],
   "source": [
    "paperData.loc[innovativeIDsByYear[2007]].head()"
   ]
  },
  {
   "cell_type": "code",
   "execution_count": null,
   "metadata": {
    "collapsed": true
   },
   "outputs": [],
   "source": []
  },
  {
   "cell_type": "code",
   "execution_count": 28,
   "metadata": {},
   "outputs": [
    {
     "name": "stdout",
     "output_type": "stream",
     "text": [
      "ID = 3505\n",
      "CSV:  eiazguirre (2012)\n",
      "XLSX: eizaguirre (2012)\n",
      "\n",
      "ID = 2810\n",
      "CSV:  harrell (2011)\n",
      "XLSX: jarrell (2010)\n",
      "\n",
      "ID = 2765\n",
      "CSV:  mcnamme (2012)\n",
      "XLSX: mcnamee (2012)\n",
      "\n",
      "ID = 2058\n",
      "CSV:  hausler (2007)\n",
      "XLSX: haeusler (2007)\n",
      "\n",
      "ID = 399\n",
      "CSV:  crepi (2011)\n",
      "XLSX: crespi (2011)\n",
      "\n"
     ]
    }
   ],
   "source": [
    "# 8.8.2018 check that names match for innovative papers\n",
    "for idx,name,year in zip(innovativeIDs100,innovativeNames100,innovativeYears100):\n",
    "    xlsxName = paperData.loc[idx].Title\n",
    "    if not xlsxName.startswith(name):\n",
    "        print \"ID =\",idx\n",
    "        print \"CSV: \", name, \"(\"+str(year)+\")\"\n",
    "        print \"XLSX:\", xlsxName\n",
    "        print"
   ]
  },
  {
   "cell_type": "markdown",
   "metadata": {
    "collapsed": true
   },
   "source": [
    "# 6.7.2018 calculate coupling networks separately by year"
   ]
  },
  {
   "cell_type": "code",
   "execution_count": 30,
   "metadata": {
    "collapsed": true
   },
   "outputs": [],
   "source": [
    "minYearInnovative,maxYearInnovative = 2007,2014"
   ]
  },
  {
   "cell_type": "code",
   "execution_count": 87,
   "metadata": {},
   "outputs": [
    {
     "name": "stderr",
     "output_type": "stream",
     "text": [
      "/Users/bryandaniels/anaconda2/lib/python2.7/site-packages/ipykernel_launcher.py:6: UserWarning: Boolean Series key will be reindexed to match DataFrame index.\n",
      "  \n"
     ]
    },
    {
     "data": {
      "image/png": "[encoded data removed]",
      "text/plain": [
       "<matplotlib.figure.Figure at 0x119989e10>"
      ]
     },
     "metadata": {},
     "output_type": "display_data"
    }
   ],
   "source": [
    "pylab.figure(figsize=(10,5))\n",
    "years = np.sort(innovativeIDsByYear.keys())\n",
    "pylab.subplot(211)\n",
    "baroffset = 0.02 # to make centered on year ticks\n",
    "ymin = 0.8\n",
    "pylab.bar(years + baroffset,[len(couplingByYear[y][paperData['Year']==y]) for y in years])\n",
    "pylab.yscale('log')\n",
    "#pylab.xlabel('Year')\n",
    "pylab.ylabel('# papers')\n",
    "pylab.xticks(range(1970,2017,5))\n",
    "pylab.axis(ymin=ymin)\n",
    "pylab.subplot(212)\n",
    "pylab.bar(years + baroffset,[len(innovativeIDsByYear[y]) for y in years],color='C1')\n",
    "pylab.yscale('log')\n",
    "pylab.xlabel('Year')\n",
    "pylab.ylabel('# innovative \\npapers')\n",
    "pylab.xticks(range(1970,2017,5))\n",
    "pylab.axis(ymin=ymin)\n",
    "for year in [minYearInnovative,maxYearInnovative]:\n",
    "    pylab.plot([year,year],[ymin,30],ls='--',color='C1')\n",
    "pylab.savefig('180808_num_papers_vs_time_numInnovative'+str(len(innovativeIDs))+'.pdf')"
   ]
  },
  {
   "cell_type": "code",
   "execution_count": 31,
   "metadata": {},
   "outputs": [
    {
     "name": "stdout",
     "output_type": "stream",
     "text": [
      "innovative paper IDs that fall outside our selected years:\n"
     ]
    }
   ],
   "source": [
    "# find innovative paper IDs that fall outside our selected years\n",
    "print \"innovative paper IDs that fall outside our selected years:\"\n",
    "for year in innovativeIDsByYear.keys():\n",
    "    if year < minYearInnovative or year > maxYearInnovative:\n",
    "        if len(innovativeIDsByYear[year]) > 0:\n",
    "            #print year, innovativeIDsByYear[year]\n",
    "            for idx in innovativeIDsByYear[year]:\n",
    "                print \"year =\",year,\", ID =\",idx,\", Title =\",paperData.loc[idx].Title"
   ]
  },
  {
   "cell_type": "code",
   "execution_count": 32,
   "metadata": {},
   "outputs": [
    {
     "name": "stdout",
     "output_type": "stream",
     "text": [
      "2007 number of new papers = 494\n",
      "2007 number of innovative papers = 15\n",
      "2008 number of new papers = 563\n",
      "2008 number of innovative papers = 29\n",
      "2009 number of new papers = 494\n",
      "2009 number of innovative papers = 21\n",
      "2010 number of new papers = 570\n",
      "2010 number of innovative papers = 14\n",
      "2011 number of new papers = 640\n",
      "2011 number of innovative papers = 11\n",
      "2012 number of new papers = 653\n",
      "2012 number of innovative papers = 10\n",
      "2013 number of new papers = 682\n",
      "2013 number of innovative papers = 0\n",
      "2014 number of new papers = 698\n",
      "2014 number of innovative papers = 0\n"
     ]
    }
   ],
   "source": [
    "# gather data for bibliographic degree cdf plot\n",
    "makeIndividualYearPlots = False\n",
    "useWeightedEdges = False #True #False #True #False\n",
    "aggregatedNewdegrees = []\n",
    "aggregatedInnovativedegrees = []\n",
    "if useWeightedEdges:\n",
    "    xlabel = 'Bibliographic coupling sum (at year of publication)'\n",
    "else:\n",
    "    xlabel = 'Bibliographic degree (at year of publication)'\n",
    "#for year in [2002,2003,2004,2005,2006,2007,2008,2009,2010,2011,2012,2013,2014,2015,2016]:\n",
    "for year in [2007,2008,2009,2010,2011,2012,2013,2014]:\n",
    "    if useWeightedEdges:\n",
    "        allnewdegrees = couplingSum(couplingByYear[year])[paperData['Year']==year]\n",
    "    else:\n",
    "        allnewdegrees = degrees(couplingByYear[year])[paperData['Year']==year]\n",
    "    print year,\"number of new papers =\",len(allnewdegrees)\n",
    "    innovativedegrees = allnewdegrees[innovativeIDsByYear[year]].dropna()\n",
    "    aggregatedNewdegrees.extend(allnewdegrees)\n",
    "    aggregatedInnovativedegrees.extend(innovativedegrees)\n",
    "    if len(innovativedegrees)>1 and makeIndividualYearPlots:\n",
    "        pylab.figure()\n",
    "        cdfPlot(allnewdegrees,innovativedegrees)\n",
    "        pylab.title(year)\n",
    "        pylab.xlabel(xlabel)\n",
    "    print year,\"number of innovative papers =\",len(innovativedegrees)"
   ]
  },
  {
   "cell_type": "code",
   "execution_count": 34,
   "metadata": {},
   "outputs": [
    {
     "name": "stdout",
     "output_type": "stream",
     "text": [
      "The total number of papers between 2007 and 2014 is 4794\n"
     ]
    }
   ],
   "source": [
    "print \"The total number of papers between\",minYearInnovative,\"and\",maxYearInnovative,\"is\",len(aggregatedNewdegrees)"
   ]
  },
  {
   "cell_type": "code",
   "execution_count": 35,
   "metadata": {},
   "outputs": [
    {
     "name": "stdout",
     "output_type": "stream",
     "text": [
      "useWeightedEdges = False\n",
      "numInnovative = 100\n",
      "Ks_2sampResult(statistic=0.15843554443053814, pvalue=0.012832238259953221)\n"
     ]
    }
   ],
   "source": [
    "# test significance with 2 sample ks-test\n",
    "print \"useWeightedEdges =\",useWeightedEdges\n",
    "print \"numInnovative =\",len(aggregatedInnovativedegrees)\n",
    "print ks_2samp(aggregatedNewdegrees,aggregatedInnovativedegrees)"
   ]
  },
  {
   "cell_type": "code",
   "execution_count": 41,
   "metadata": {},
   "outputs": [
    {
     "name": "stdout",
     "output_type": "stream",
     "text": [
      "useWeightedEdges = True\n",
      "numInnovative = 100\n",
      "Ks_2sampResult(statistic=0.13335836462244474, pvalue=0.055909995527797296)\n"
     ]
    }
   ],
   "source": [
    "# test significance with 2 sample ks-test\n",
    "print \"useWeightedEdges =\",useWeightedEdges\n",
    "print \"numInnovative =\",len(aggregatedInnovativedegrees)\n",
    "print ks_2samp(aggregatedNewdegrees,aggregatedInnovativedegrees)"
   ]
  },
  {
   "cell_type": "code",
   "execution_count": 37,
   "metadata": {},
   "outputs": [
    {
     "data": {
      "image/png": "[encoded data removed]",
      "text/plain": [
       "<matplotlib.figure.Figure at 0x11e4e2d90>"
      ]
     },
     "metadata": {},
     "output_type": "display_data"
    }
   ],
   "source": [
    "# make bibliographic degree plot\n",
    "cdfPlot(aggregatedNewdegrees,aggregatedInnovativedegrees,samples=1000)\n",
    "pylab.xlabel(xlabel)\n",
    "pylab.xscale('log')\n",
    "pylab.legend(loc=2)\n",
    "if useWeightedEdges:\n",
    "    pylab.savefig('180808_cdf_bibliographic_coupling_sum_at_publication_numInnovative'\\\n",
    "                  +str(len(aggregatedInnovativedegrees))+'.pdf')\n",
    "else:\n",
    "    pylab.savefig('180926_cdf_bibliographic_degree_at_publication_numInnovative'\\\n",
    "                  +str(len(aggregatedInnovativedegrees))+'.pdf')"
   ]
  },
  {
   "cell_type": "code",
   "execution_count": 223,
   "metadata": {},
   "outputs": [
    {
     "name": "stdout",
     "output_type": "stream",
     "text": [
      "2007 number of new papers = 494\n",
      "2007 number of innovative papers = 15\n",
      "2008 number of new papers = 563\n",
      "2008 number of innovative papers = 29\n",
      "2009 number of new papers = 494\n",
      "2009 number of innovative papers = 21\n",
      "2010 number of new papers = 570\n",
      "2010 number of innovative papers = 14\n",
      "2011 number of new papers = 640\n",
      "2011 number of innovative papers = 11\n",
      "2012 number of new papers = 653\n",
      "2012 number of innovative papers = 10\n",
      "2013 number of new papers = 682\n",
      "2013 number of innovative papers = 0\n",
      "2014 number of new papers = 698\n",
      "2014 number of innovative papers = 0\n"
     ]
    }
   ],
   "source": [
    "# 7.25.2018 distributions of \"delta\" coupling (number of new bibliographic coupling links)\n",
    "makeIndividualYearPlots = False\n",
    "useWeightedEdges = False #True #False #True #False\n",
    "aggregatedNewIDs = []\n",
    "aggregatedInnovativeIDs = []\n",
    "aggregatedNewdegreesPlus = []\n",
    "aggregatedInnovativedegreesPlus = []\n",
    "aggregatedNewdegreesDelta = []\n",
    "aggregatedInnovativedegreesDelta = []\n",
    "if useWeightedEdges:\n",
    "    xlabel = 'Delta Bibliographic coupling sum ($\\\\Delta=$'+str(deltaTime)+' years)'\n",
    "else:\n",
    "    xlabel = 'Delta Bibliographic degree ($\\\\Delta=$'+str(deltaTime)+' years)'\n",
    "for year in [2007,2008,2009,2010,2011,2012,2013,2014]:\n",
    "    newPaperIDs = list(paperData[paperData['Year']==year].index)\n",
    "    if useWeightedEdges:\n",
    "        allnewdegrees = couplingSum(couplingByYear[year])[newPaperIDs] #[paperData['Year']==year]\n",
    "        allnewdegreesPlus = couplingSum(couplingByYearPlus[year])[newPaperIDs] #[paperData['Year']==year]\n",
    "    else:\n",
    "        allnewdegrees = degrees(couplingByYear[year])[paperData['Year']==year]\n",
    "        allnewdegreesPlus = degrees(couplingByYearPlus[year])[paperData['Year']==year]\n",
    "    allnewdegreesDelta = allnewdegreesPlus - allnewdegrees\n",
    "    print year,\"number of new papers =\",len(allnewdegrees)\n",
    "    innovativedegreesPlus = allnewdegreesPlus[innovativeIDsByYear[year]].dropna()\n",
    "    innovativedegreesDelta = allnewdegreesDelta[innovativeIDsByYear[year]].dropna()\n",
    "    aggregatedNewIDs.extend(newPaperIDs)\n",
    "    aggregatedNewdegreesDelta.extend(allnewdegreesDelta)\n",
    "    aggregatedNewdegreesPlus.extend(aggregatedNewdegreesPlus)\n",
    "    aggregatedInnovativeIDs.extend(innovativeIDsByYear[year])\n",
    "    aggregatedInnovativedegreesDelta.extend(innovativedegreesDelta)\n",
    "    aggregatedInnovativedegreesPlus.extend(innovativedegreesPlus)\n",
    "    if len(innovativedegreesDelta)>1:\n",
    "        if makeIndividualYearPlots:\n",
    "            pylab.figure()\n",
    "            cdfPlot(allnewdegreesDelta,innovativedegreesDelta)\n",
    "            pylab.title(year)\n",
    "            pylab.xlabel(xlabel)\n",
    "    print year,\"number of innovative papers =\",len(innovativedegreesDelta)"
   ]
  },
  {
   "cell_type": "code",
   "execution_count": 225,
   "metadata": {},
   "outputs": [
    {
     "data": {
      "image/png": "[encoded data removed]",
      "text/plain": [
       "<matplotlib.figure.Figure at 0x11a4027d0>"
      ]
     },
     "metadata": {},
     "output_type": "display_data"
    }
   ],
   "source": [
    "cdfPlot(aggregatedNewdegreesDelta,aggregatedInnovativedegreesDelta)\n",
    "#pylab.title('Aggregated 2007 to 2014')\n",
    "pylab.xlabel(xlabel)\n",
    "pylab.xscale('log')\n",
    "if useWeightedEdges:\n",
    "    pylab.savefig('180808_delta_'+str(deltaTime)+'years_bibliographic_coupling_sum_numInnovative'\\\n",
    "                  +str(len(aggregatedInnovativedegreesDelta))+'.pdf')\n",
    "else:\n",
    "    pylab.savefig('180808_delta_'+str(deltaTime)+'years_bibliographic_degree_numInnovative'\\\n",
    "                  +str(len(aggregatedInnovativedegreesDelta))+'.pdf')"
   ]
  },
  {
   "cell_type": "code",
   "execution_count": 99,
   "metadata": {},
   "outputs": [
    {
     "name": "stdout",
     "output_type": "stream",
     "text": [
      "useWeightedEdges = True\n",
      "deltaTime = 2 years\n",
      "numInnovative = 100\n"
     ]
    },
    {
     "data": {
      "text/plain": [
       "Ks_2sampResult(statistic=0.10607008760951189, pvalue=0.20784537452793014)"
      ]
     },
     "execution_count": 99,
     "metadata": {},
     "output_type": "execute_result"
    }
   ],
   "source": [
    "# test significance with 2 sample ks-test\n",
    "print \"useWeightedEdges =\",useWeightedEdges\n",
    "print \"deltaTime =\",deltaTime,\"years\"\n",
    "print \"numInnovative =\",len(aggregatedInnovativedegrees)\n",
    "ks_2samp(aggregatedNewdegreesDelta,aggregatedInnovativedegreesDelta)"
   ]
  },
  {
   "cell_type": "code",
   "execution_count": 58,
   "metadata": {},
   "outputs": [
    {
     "name": "stdout",
     "output_type": "stream",
     "text": [
      "useWeightedEdges = True\n",
      "deltaTime = 5 years\n",
      "numInnovative = 100\n"
     ]
    },
    {
     "data": {
      "text/plain": [
       "Ks_2sampResult(statistic=0.11231539424280351, pvalue=0.1580793270412866)"
      ]
     },
     "execution_count": 58,
     "metadata": {},
     "output_type": "execute_result"
    }
   ],
   "source": [
    "# test significance with 2 sample ks-test\n",
    "print \"useWeightedEdges =\",useWeightedEdges\n",
    "print \"deltaTime =\",deltaTime,\"years\"\n",
    "print \"numInnovative =\",len(aggregatedInnovativedegrees)\n",
    "ks_2samp(aggregatedNewdegreesDelta,aggregatedInnovativedegreesDelta)"
   ]
  },
  {
   "cell_type": "code",
   "execution_count": 92,
   "metadata": {},
   "outputs": [
    {
     "name": "stdout",
     "output_type": "stream",
     "text": [
      "useWeightedEdges = False\n",
      "deltaTime = 2 years\n",
      "numInnovative = 100\n"
     ]
    },
    {
     "data": {
      "text/plain": [
       "Ks_2sampResult(statistic=0.11720901126408007, pvalue=0.12614359076503293)"
      ]
     },
     "execution_count": 92,
     "metadata": {},
     "output_type": "execute_result"
    }
   ],
   "source": [
    "print \"useWeightedEdges =\",useWeightedEdges\n",
    "print \"deltaTime =\",deltaTime,\"years\"\n",
    "print \"numInnovative =\",len(aggregatedInnovativedegrees)\n",
    "ks_2samp(aggregatedNewdegreesDelta,aggregatedInnovativedegreesDelta)"
   ]
  },
  {
   "cell_type": "code",
   "execution_count": 82,
   "metadata": {},
   "outputs": [
    {
     "name": "stdout",
     "output_type": "stream",
     "text": [
      "useWeightedEdges = False\n",
      "deltaTime = 5 years\n",
      "numInnovative = 100\n"
     ]
    },
    {
     "data": {
      "text/plain": [
       "Ks_2sampResult(statistic=0.11410513141426784, pvalue=0.1457213607403462)"
      ]
     },
     "execution_count": 82,
     "metadata": {},
     "output_type": "execute_result"
    }
   ],
   "source": [
    "# test significance with 2 sample ks-test\n",
    "print \"useWeightedEdges =\",useWeightedEdges\n",
    "print \"deltaTime =\",deltaTime,\"years\"\n",
    "print \"numInnovative =\",len(aggregatedInnovativedegrees)\n",
    "ks_2samp(aggregatedNewdegreesDelta,aggregatedInnovativedegreesDelta)"
   ]
  },
  {
   "cell_type": "code",
   "execution_count": null,
   "metadata": {
    "collapsed": true
   },
   "outputs": [],
   "source": []
  },
  {
   "cell_type": "code",
   "execution_count": 171,
   "metadata": {},
   "outputs": [
    {
     "name": "stdout",
     "output_type": "stream",
     "text": [
      "useWeightedEdges = True\n",
      "deltaTime = 2 years\n",
      "\n",
      "Big mover = gaining > 100 in bibliographic coupling sum in first 2 years\n",
      "\n",
      "overallFraction = 0.0425531914893617 ( 204 / 4794 )\n",
      "innovativeFraction = 0.13 ( 13 / 100 )\n",
      "\n",
      "innovativeFraction is larger with p-value 0.00033189775437767274\n"
     ]
    }
   ],
   "source": [
    "# (with weighted edges)\n",
    "bigMoverThreshold = 100 #200 #100\n",
    "numBigMoversOverall = np.sum(np.array(aggregatedNewdegreesDelta) > bigMoverThreshold)\n",
    "numBigMoversInnovative = np.sum(np.array(aggregatedInnovativedegreesDelta) > bigMoverThreshold)\n",
    "numOverall = len(aggregatedNewdegreesDelta)\n",
    "numInnovative = len(aggregatedInnovativedegreesDelta)\n",
    "overallFraction = numBigMoversOverall / float(numOverall)\n",
    "innovativeFraction = numBigMoversInnovative / float(numInnovative)\n",
    "print \"useWeightedEdges =\",useWeightedEdges\n",
    "print \"deltaTime =\",deltaTime,\"years\"\n",
    "print\n",
    "print \"Big mover = gaining >\",bigMoverThreshold,\"in bibliographic coupling sum in first\",deltaTime,\"years\"\n",
    "print\n",
    "print \"overallFraction =\",overallFraction,\"(\",numBigMoversOverall,\"/\",numOverall,\")\"\n",
    "print \"innovativeFraction =\",innovativeFraction,\"(\",numBigMoversInnovative,\"/\",numInnovative,\")\"\n",
    "print\n",
    "print \"innovativeFraction is larger with p-value\",\\\n",
    "    binom_test(numBigMoversInnovative, numInnovative, \n",
    "               overallFraction, alternative='greater')"
   ]
  },
  {
   "cell_type": "code",
   "execution_count": 172,
   "metadata": {},
   "outputs": [
    {
     "name": "stdout",
     "output_type": "stream",
     "text": [
      "useWeightedEdges = True\n",
      "deltaTime = 2 years\n",
      "\n",
      "Big dud = gaining < 2 in bibliographic degree in first 2 years\n",
      "\n",
      "overallFraction = 0.19774718397997496 ( 948 / 4794 )\n",
      "innovativeFraction = 0.29 ( 29 / 100 )\n",
      "\n",
      "innovativeFraction is larger with p-value 0.01731603926985132\n"
     ]
    }
   ],
   "source": [
    "bigDudThreshold = 2\n",
    "numBigDudsOverall = np.sum(np.array(aggregatedNewdegreesDelta) < bigDudThreshold)\n",
    "numBigDudsInnovative = np.sum(np.array(aggregatedInnovativedegreesDelta) < bigDudThreshold)\n",
    "numOverall = len(aggregatedNewdegreesDelta)\n",
    "numInnovative = len(aggregatedInnovativedegreesDelta)\n",
    "overallFraction = numBigDudsOverall / float(numOverall)\n",
    "innovativeFraction = numBigDudsInnovative / float(numInnovative)\n",
    "print \"useWeightedEdges =\",useWeightedEdges\n",
    "print \"deltaTime =\",deltaTime,\"years\"\n",
    "print\n",
    "print \"Big dud = gaining <\",bigDudThreshold,\"in bibliographic degree in first\",deltaTime,\"years\"\n",
    "print\n",
    "print \"overallFraction =\",overallFraction,\"(\",numBigDudsOverall,\"/\",numOverall,\")\"\n",
    "print \"innovativeFraction =\",innovativeFraction,\"(\",numBigDudsInnovative,\"/\",numInnovative,\")\"\n",
    "print\n",
    "print \"innovativeFraction is larger with p-value\",\\\n",
    "    binom_test(numBigDudsInnovative, numInnovative, \n",
    "               overallFraction, alternative='greater')"
   ]
  },
  {
   "cell_type": "code",
   "execution_count": 173,
   "metadata": {
    "collapsed": true
   },
   "outputs": [],
   "source": [
    "# are \"big mover\" innovative papers just ones that happened to begin\n",
    "# with large degree?\n",
    "bigMoversInnovative = np.array(aggregatedInnovativedegreesDelta) > bigMoverThreshold\n",
    "bigMoversIDs = [ aggregatedInnovativeIDs[i] for i in range(len(aggregatedInnovativedegrees)) \\\n",
    "                            if bigMoversInnovative[i] ]\n",
    "bigMoversNames = [ paperData.loc[ID]['Title'] for ID in bigMoversIDs ]\n",
    "bigMoversInitialDegrees = [ aggregatedInnovativedegrees[i] for i in range(len(aggregatedInnovativedegrees)) \\\n",
    "                            if bigMoversInnovative[i] ]\n",
    "bigMoversFinalDegrees = [ aggregatedInnovativedegreesPlus[i] for i in range(len(aggregatedInnovativedegrees)) \\\n",
    "                            if bigMoversInnovative[i] ]"
   ]
  },
  {
   "cell_type": "code",
   "execution_count": 174,
   "metadata": {},
   "outputs": [
    {
     "data": {
      "text/plain": [
       "[4088, 2859, 3277, 5090, 1076, 6331, 5083, 854, 5580, 1107, 1597, 399, 5358]"
      ]
     },
     "execution_count": 174,
     "metadata": {},
     "output_type": "execute_result"
    }
   ],
   "source": [
    "bigMoversIDs"
   ]
  },
  {
   "cell_type": "code",
   "execution_count": 176,
   "metadata": {},
   "outputs": [
    {
     "data": {
      "text/plain": [
       "Title           johnson (2008)\n",
       "x-coordinate           -0.0493\n",
       "y-coordinate            0.4356\n",
       "Year                      2008\n",
       "Name: 2859, dtype: object"
      ]
     },
     "execution_count": 176,
     "metadata": {},
     "output_type": "execute_result"
    }
   ],
   "source": [
    "paperData.loc[2859]"
   ]
  },
  {
   "cell_type": "code",
   "execution_count": 205,
   "metadata": {},
   "outputs": [
    {
     "data": {
      "text/plain": [
       "2855    39.0\n",
       "2856    49.0\n",
       "2857    35.0\n",
       "2858     1.0\n",
       "5093     1.0\n",
       "Name: 2859, dtype: float64"
      ]
     },
     "execution_count": 205,
     "metadata": {},
     "output_type": "execute_result"
    }
   ],
   "source": [
    "couplingByYear[2009][2859].dropna()"
   ]
  },
  {
   "cell_type": "code",
   "execution_count": 209,
   "metadata": {},
   "outputs": [
    {
     "data": {
      "text/html": [
       "<div>\n",
       "<style>\n",
       "    .dataframe thead tr:only-child th {\n",
       "        text-align: right;\n",
       "    }\n",
       "\n",
       "    .dataframe thead th {\n",
       "        text-align: left;\n",
       "    }\n",
       "\n",
       "    .dataframe tbody tr th {\n",
       "        vertical-align: top;\n",
       "    }\n",
       "</style>\n",
       "<table border=\"1\" class=\"dataframe\">\n",
       "  <thead>\n",
       "    <tr style=\"text-align: right;\">\n",
       "      <th></th>\n",
       "      <th>Title</th>\n",
       "      <th>x-coordinate</th>\n",
       "      <th>y-coordinate</th>\n",
       "      <th>Year</th>\n",
       "    </tr>\n",
       "    <tr>\n",
       "      <th>Name</th>\n",
       "      <th></th>\n",
       "      <th></th>\n",
       "      <th></th>\n",
       "      <th></th>\n",
       "    </tr>\n",
       "  </thead>\n",
       "  <tbody>\n",
       "    <tr>\n",
       "      <th>2855</th>\n",
       "      <td>johnson (2009)</td>\n",
       "      <td>-0.0786</td>\n",
       "      <td>0.4175</td>\n",
       "      <td>2009</td>\n",
       "    </tr>\n",
       "    <tr>\n",
       "      <th>2856</th>\n",
       "      <td>johnson (2009)</td>\n",
       "      <td>-0.0670</td>\n",
       "      <td>0.3686</td>\n",
       "      <td>2009</td>\n",
       "    </tr>\n",
       "    <tr>\n",
       "      <th>2857</th>\n",
       "      <td>johnson (2009)</td>\n",
       "      <td>-0.0635</td>\n",
       "      <td>0.4273</td>\n",
       "      <td>2009</td>\n",
       "    </tr>\n",
       "  </tbody>\n",
       "</table>\n",
       "</div>"
      ],
      "text/plain": [
       "               Title  x-coordinate  y-coordinate  Year\n",
       "Name                                                  \n",
       "2855  johnson (2009)       -0.0786        0.4175  2009\n",
       "2856  johnson (2009)       -0.0670        0.3686  2009\n",
       "2857  johnson (2009)       -0.0635        0.4273  2009"
      ]
     },
     "execution_count": 209,
     "metadata": {},
     "output_type": "execute_result"
    }
   ],
   "source": [
    "paperData.loc[[2855,2856,2857]]"
   ]
  },
  {
   "cell_type": "code",
   "execution_count": 246,
   "metadata": {},
   "outputs": [
    {
     "data": {
      "text/plain": [
       "4088     346.0\n",
       "2859     135.0\n",
       "3277     539.0\n",
       "5090     365.0\n",
       "1076     529.0\n",
       "6331     278.0\n",
       "5083     645.0\n",
       "854      519.0\n",
       "5580     301.0\n",
       "1107    1025.0\n",
       "1597     505.0\n",
       "399      722.0\n",
       "5358     260.0\n",
       "dtype: float64"
      ]
     },
     "execution_count": 246,
     "metadata": {},
     "output_type": "execute_result"
    }
   ],
   "source": [
    "couplingSum(couplingByYear[2013])[bigMoversIDs]"
   ]
  },
  {
   "cell_type": "code",
   "execution_count": 175,
   "metadata": {},
   "outputs": [
    {
     "data": {
      "text/plain": [
       "[u'martin (2007)',\n",
       " u'johnson (2008)',\n",
       " u'schulenburg (2009)',\n",
       " u'kenrick (2009)',\n",
       " u'flatt (2009)',\n",
       " u'stearns (2010)',\n",
       " u'kenrick (2010)',\n",
       " u'nesse (2010)',\n",
       " u'hancock (2011)',\n",
       " u'flinn (2011)',\n",
       " u'low (2011)',\n",
       " u'crespi (2011)',\n",
       " u'nunn (2012)']"
      ]
     },
     "execution_count": 175,
     "metadata": {},
     "output_type": "execute_result"
    }
   ],
   "source": [
    "bigMoversNames"
   ]
  },
  {
   "cell_type": "code",
   "execution_count": 104,
   "metadata": {},
   "outputs": [
    {
     "data": {
      "text/plain": [
       "13"
      ]
     },
     "execution_count": 104,
     "metadata": {},
     "output_type": "execute_result"
    }
   ],
   "source": [
    "np.sum(bigMoversInnovative)"
   ]
  },
  {
   "cell_type": "code",
   "execution_count": 105,
   "metadata": {},
   "outputs": [
    {
     "data": {
      "text/plain": [
       "[35, 2, 90, 45, 80, 91, 110, 181, 116, 276, 80, 232, 94]"
      ]
     },
     "execution_count": 105,
     "metadata": {},
     "output_type": "execute_result"
    }
   ],
   "source": [
    "bigMoversInitialDegrees"
   ]
  },
  {
   "cell_type": "code",
   "execution_count": 106,
   "metadata": {},
   "outputs": [
    {
     "data": {
      "text/plain": [
       "110.15384615384616"
      ]
     },
     "execution_count": 106,
     "metadata": {},
     "output_type": "execute_result"
    }
   ],
   "source": [
    "np.mean(bigMoversInitialDegrees)"
   ]
  },
  {
   "cell_type": "code",
   "execution_count": 107,
   "metadata": {},
   "outputs": [
    {
     "data": {
      "text/plain": [
       "[194.0,\n",
       " 128.0,\n",
       " 414.0,\n",
       " 262.0,\n",
       " 372.0,\n",
       " 246.0,\n",
       " 559.0,\n",
       " 449.0,\n",
       " 301.0,\n",
       " 1025.0,\n",
       " 505.0,\n",
       " 722.0,\n",
       " 336.0]"
      ]
     },
     "execution_count": 107,
     "metadata": {},
     "output_type": "execute_result"
    }
   ],
   "source": [
    "bigMoversFinalDegrees"
   ]
  },
  {
   "cell_type": "code",
   "execution_count": 67,
   "metadata": {},
   "outputs": [
    {
     "data": {
      "text/plain": [
       "<matplotlib.text.Text at 0x122eea050>"
      ]
     },
     "execution_count": 67,
     "metadata": {},
     "output_type": "execute_result"
    },
    {
     "data": {
      "image/png": "[encoded data removed]",
      "text/plain": [
       "<matplotlib.figure.Figure at 0x122fdfed0>"
      ]
     },
     "metadata": {},
     "output_type": "display_data"
    }
   ],
   "source": [
    "# are \"big mover\" innovative papers just ones that happened to begin\n",
    "# with large degree?  Yes...\n",
    "cdfPlot(aggregatedInnovativedegrees,bigMoversInitialDegrees)\n",
    "pylab.legend(['','all innovative papers','big mover innovators'])\n",
    "pylab.xlabel('Initial bibliographic degree')"
   ]
  },
  {
   "cell_type": "code",
   "execution_count": 68,
   "metadata": {
    "collapsed": true
   },
   "outputs": [],
   "source": [
    "# what about \"big duds\"?\n",
    "bigDudsInnovative = np.array(aggregatedInnovativedegreesDelta) < bigDudThreshold\n",
    "bigDudsInitialDegrees = [ aggregatedInnovativedegrees[i] for i in range(len(aggregatedInnovativedegrees)) \\\n",
    "                            if bigDudsInnovative[i] ]\n",
    "bigDudsFinalDegrees = [ aggregatedInnovativedegreesPlus[i] for i in range(len(aggregatedInnovativedegrees)) \\\n",
    "                            if bigDudsInnovative[i] ]"
   ]
  },
  {
   "cell_type": "code",
   "execution_count": 69,
   "metadata": {},
   "outputs": [
    {
     "data": {
      "text/plain": [
       "26"
      ]
     },
     "execution_count": 69,
     "metadata": {},
     "output_type": "execute_result"
    }
   ],
   "source": [
    "np.sum(bigDudsInnovative)"
   ]
  },
  {
   "cell_type": "code",
   "execution_count": 70,
   "metadata": {},
   "outputs": [
    {
     "data": {
      "text/plain": [
       "<matplotlib.text.Text at 0x18bf05510>"
      ]
     },
     "execution_count": 70,
     "metadata": {},
     "output_type": "execute_result"
    },
    {
     "data": {
      "image/png": "[encoded data removed]",
      "text/plain": [
       "<matplotlib.figure.Figure at 0x119272950>"
      ]
     },
     "metadata": {},
     "output_type": "display_data"
    }
   ],
   "source": [
    "# are \"big dud\" innovative papers just ones that happened to begin\n",
    "# with small degree?  Yes...\n",
    "cdfPlot(aggregatedInnovativedegrees,bigDudsInitialDegrees)\n",
    "pylab.legend(['','all innovative papers','big dud innovators'])\n",
    "pylab.xlabel('Initial bibliographic degree')"
   ]
  },
  {
   "cell_type": "code",
   "execution_count": 129,
   "metadata": {
    "collapsed": true
   },
   "outputs": [],
   "source": [
    "# 8.8.2018 what is the fate of innovative papers that start in the periphery?\n",
    "startSmallThreshold = 10 #2 #10 #2\n",
    "startSmallInnovative = np.array(aggregatedInnovativedegrees) < startSmallThreshold\n",
    "startSmallDeltaDegrees = [ aggregatedInnovativedegreesDelta[i] for i in range(len(aggregatedInnovativedegrees)) \\\n",
    "                            if startSmallInnovative[i] ]\n",
    "startSmallInitialDegrees = [ aggregatedInnovativedegrees[i] for i in range(len(aggregatedInnovativedegrees)) \\\n",
    "                            if startSmallInnovative[i] ]\n",
    "startSmallFinalDegrees = [ aggregatedInnovativedegreesPlus[i] for i in range(len(aggregatedInnovativedegrees)) \\\n",
    "                            if startSmallInnovative[i] ]\n",
    "\n",
    "# and what if we compare to all papers that start small?\n",
    "startSmallAll = np.array(aggregatedNewdegrees) < startSmallThreshold\n",
    "startSmallAllDeltaDegrees = [ aggregatedNewdegreesDelta[i] for i in range(len(aggregatedNewdegrees)) \\\n",
    "                            if startSmallAll[i] ]\n",
    "# startSmallAllInitialDegrees = [ aggregatedNewdegrees[i] for i in range(len(aggregatedNewdegrees)) \\\n",
    "#                             if startSmallAll[i] ]\n",
    "# startSmallAllFinalDegrees = [ aggregatedNewdegreesPlus[i] for i in range(len(aggregatedNewdegrees)) \\\n",
    "#                             if startSmallAll[i] ]"
   ]
  },
  {
   "cell_type": "code",
   "execution_count": 130,
   "metadata": {},
   "outputs": [
    {
     "data": {
      "text/plain": [
       "54"
      ]
     },
     "execution_count": 130,
     "metadata": {},
     "output_type": "execute_result"
    }
   ],
   "source": [
    "np.sum(startSmallInnovative)"
   ]
  },
  {
   "cell_type": "code",
   "execution_count": 131,
   "metadata": {},
   "outputs": [
    {
     "data": {
      "image/png": "[encoded data removed]",
      "text/plain": [
       "<matplotlib.figure.Figure at 0x112284f10>"
      ]
     },
     "metadata": {},
     "output_type": "display_data"
    }
   ],
   "source": [
    "if useWeightedEdges:\n",
    "    xlabel = 'Change in Bibliographic coupling sum ($\\\\Delta=$'+str(deltaTime)+' years)'\n",
    "else:\n",
    "    xlabel = 'Change in Bibliographic degree ($\\\\Delta=$'+str(deltaTime)+' years)'\n",
    "cdfPlot(startSmallAllDeltaDegrees,startSmallDeltaDegrees)\n",
    "pylab.xlabel(xlabel)\n",
    "pylab.legend(['','all papers with initial degree < '+str(startSmallThreshold),\n",
    "              'innovative papers with initial degree < '+str(startSmallThreshold)])\n",
    "\n",
    "if useWeightedEdges:\n",
    "    pylab.savefig('180808_delta_'+str(deltaTime)+'years_bibliographic_coupling_sum_startSmallThreshold'+\\\n",
    "                  str(startSmallThreshold)+'.pdf')\n",
    "else:\n",
    "    pylab.savefig('180808_delta_'+str(deltaTime)+'years_bibliographic_degree_startSmallThreshold'+\\\n",
    "                  str(startSmallThreshold)+'.pdf')"
   ]
  },
  {
   "cell_type": "markdown",
   "metadata": {},
   "source": [
    "# now with useWeightedEdges = False"
   ]
  },
  {
   "cell_type": "code",
   "execution_count": 226,
   "metadata": {},
   "outputs": [
    {
     "name": "stdout",
     "output_type": "stream",
     "text": [
      "useWeightedEdges = False\n",
      "\n",
      "Big dud = gaining < 2 in bibliographic degree in first 5 years\n",
      "\n",
      "overallFraction = 0.16750104297037965 ( 803 / 4794 )\n",
      "innovativeFraction = 0.28 ( 28 / 100 )\n",
      "\n",
      "innovativeFraction is larger with p-value 0.0033357942667520133\n"
     ]
    }
   ],
   "source": [
    "# (without weighted edges)\n",
    "bigDudThreshold = 2 #2\n",
    "numBigDudsOverall = np.sum(np.array(aggregatedNewdegreesDelta) < bigDudThreshold)\n",
    "numBigDudsInnovative = np.sum(np.array(aggregatedInnovativedegreesDelta) < bigDudThreshold)\n",
    "numOverall = len(aggregatedNewdegreesDelta)\n",
    "numInnovative = len(aggregatedInnovativedegreesDelta)\n",
    "overallFraction = numBigDudsOverall / float(numOverall)\n",
    "innovativeFraction = numBigDudsInnovative / float(numInnovative)\n",
    "print \"useWeightedEdges =\",useWeightedEdges\n",
    "print\n",
    "print \"Big dud = gaining <\",bigDudThreshold,\"in bibliographic degree in first\",deltaTime,\"years\"\n",
    "print\n",
    "print \"overallFraction =\",overallFraction,\"(\",numBigDudsOverall,\"/\",numOverall,\")\"\n",
    "print \"innovativeFraction =\",innovativeFraction,\"(\",numBigDudsInnovative,\"/\",numInnovative,\")\"\n",
    "print\n",
    "print \"innovativeFraction is larger with p-value\",\\\n",
    "    binom_test(numBigDudsInnovative, numInnovative, \n",
    "               overallFraction, alternative='greater')"
   ]
  },
  {
   "cell_type": "code",
   "execution_count": 237,
   "metadata": {},
   "outputs": [
    {
     "name": "stdout",
     "output_type": "stream",
     "text": [
      "useWeightedEdges = False\n",
      "\n",
      "Big mover = gaining > 75 in bibliographic degree in first 5 years\n",
      "\n",
      "overallFraction = 0.0917813934084272 ( 440 / 4794 )\n",
      "innovativeFraction = 0.16 ( 16 / 100 )\n",
      "\n",
      "innovativeFraction is larger with p-value 0.01994168499391558\n"
     ]
    }
   ],
   "source": [
    "# (without weighted edges)\n",
    "bigMoverThreshold = 75 #60 #50\n",
    "numBigMoversOverall = np.sum(np.array(aggregatedNewdegreesDelta) > bigMoverThreshold)\n",
    "numBigMoversInnovative = np.sum(np.array(aggregatedInnovativedegreesDelta) > bigMoverThreshold)\n",
    "numOverall = len(aggregatedNewdegreesDelta)\n",
    "numInnovative = len(aggregatedInnovativedegreesDelta)\n",
    "overallFraction = numBigMoversOverall / float(numOverall)\n",
    "innovativeFraction = numBigMoversInnovative / float(numInnovative)\n",
    "print \"useWeightedEdges =\",useWeightedEdges\n",
    "print\n",
    "print \"Big mover = gaining >\",bigMoverThreshold,\"in bibliographic degree in first\",deltaTime,\"years\"\n",
    "print\n",
    "print \"overallFraction =\",overallFraction,\"(\",numBigMoversOverall,\"/\",numOverall,\")\"\n",
    "print \"innovativeFraction =\",innovativeFraction,\"(\",numBigMoversInnovative,\"/\",numInnovative,\")\"\n",
    "print\n",
    "print \"innovativeFraction is larger with p-value\",\\\n",
    "    binom_test(numBigMoversInnovative, numInnovative, \n",
    "               overallFraction, alternative='greater')"
   ]
  },
  {
   "cell_type": "code",
   "execution_count": 238,
   "metadata": {
    "collapsed": true
   },
   "outputs": [],
   "source": [
    "# are \"big mover\" innovative papers just ones that happened to begin\n",
    "# with large degree?\n",
    "bigMoversInnovative = np.array(aggregatedInnovativedegreesDelta) > bigMoverThreshold\n",
    "bigMoversInitialDegrees = [ aggregatedInnovativedegrees[i] for i in range(len(aggregatedInnovativedegrees)) \\\n",
    "                            if bigMoversInnovative[i] ]\n",
    "bigMoversFinalDegrees = [ aggregatedInnovativedegreesPlus[i] for i in range(len(aggregatedInnovativedegrees)) \\\n",
    "                            if bigMoversInnovative[i] ]"
   ]
  },
  {
   "cell_type": "code",
   "execution_count": 239,
   "metadata": {},
   "outputs": [
    {
     "data": {
      "text/plain": [
       "[21, 35, 68, 90, 45, 80, 91, 110, 181, 116, 142, 85, 276, 80, 232, 94]"
      ]
     },
     "execution_count": 239,
     "metadata": {},
     "output_type": "execute_result"
    }
   ],
   "source": [
    "# now with useWeightedEdges = False\n",
    "bigMoversInitialDegrees"
   ]
  },
  {
   "cell_type": "code",
   "execution_count": 240,
   "metadata": {},
   "outputs": [
    {
     "data": {
      "text/plain": [
       "[97, 146, 165, 248, 140, 212, 215, 290, 412, 249, 227, 182, 585, 170, 506, 184]"
      ]
     },
     "execution_count": 240,
     "metadata": {},
     "output_type": "execute_result"
    }
   ],
   "source": [
    "# now with useWeightedEdges = False\n",
    "bigMoversFinalDegrees"
   ]
  },
  {
   "cell_type": "markdown",
   "metadata": {},
   "source": [
    "# 5.24.2018 use networkx's version of rich club coefficient"
   ]
  },
  {
   "cell_type": "code",
   "execution_count": 7,
   "metadata": {
    "collapsed": true
   },
   "outputs": [],
   "source": [
    "import networkx as nx\n",
    "from toolbox.simplePickle import load,save\n",
    "from toolbox.SparsenessTools import zeroDiag"
   ]
  },
  {
   "cell_type": "code",
   "execution_count": 20,
   "metadata": {
    "collapsed": true
   },
   "outputs": [],
   "source": [
    "def richClubNodes(degreeList,K):\n",
    "    return np.where( degreeList >= K )[0]"
   ]
  },
  {
   "cell_type": "code",
   "execution_count": 17,
   "metadata": {},
   "outputs": [
    {
     "name": "stderr",
     "output_type": "stream",
     "text": [
      "/Users/bryandaniels/anaconda2/lib/python2.7/site-packages/ipykernel_launcher.py:1: RuntimeWarning: invalid value encountered in greater\n",
      "  \"\"\"Entry point for launching an IPython kernel.\n"
     ]
    }
   ],
   "source": [
    "G = nx.from_numpy_array(np.array(coupling)>0)"
   ]
  },
  {
   "cell_type": "code",
   "execution_count": 18,
   "metadata": {},
   "outputs": [
    {
     "name": "stdout",
     "output_type": "stream",
     "text": [
      "Name: \n",
      "Type: Graph\n",
      "Number of nodes: 6456\n",
      "Number of edges: 202535\n",
      "Average degree:  62.7432\n"
     ]
    }
   ],
   "source": [
    "print(nx.info(G))"
   ]
  },
  {
   "cell_type": "code",
   "execution_count": 148,
   "metadata": {
    "collapsed": true
   },
   "outputs": [
    {
     "data": {
      "text/plain": [
       "{0: 1.0,\n",
       " 1: 1.0000939050669198,\n",
       " 2: 1.0002425070277547,\n",
       " 3: 1.0004960588127327,\n",
       " 4: 1.0010595591636944,\n",
       " 5: 1.0017419515847268,\n",
       " 6: 1.0024892940322057,\n",
       " 7: 1.003182455769898,\n",
       " 8: 1.0037613914623988,\n",
       " 9: 1.0047361401978634,\n",
       " 10: 1.0057451927978631,\n",
       " 11: 1.0065530463986403,\n",
       " 12: 1.0078968922406466,\n",
       " 13: 1.0089242243745793,\n",
       " 14: 1.0104399157297512,\n",
       " 15: 1.011384065453135,\n",
       " 16: 1.0125194216943616,\n",
       " 17: 1.0137193910264903,\n",
       " 18: 1.0149659139326799,\n",
       " 19: 1.0158557554785386,\n",
       " 20: 1.0169695076634748,\n",
       " 21: 1.0184943712783066,\n",
       " 22: 1.0198597939047014,\n",
       " 23: 1.0212528766715048,\n",
       " 24: 1.022853620202267,\n",
       " 25: 1.024086220960767,\n",
       " 26: 1.025706810701325,\n",
       " 27: 1.0274978592613175,\n",
       " 28: 1.0292354166189899,\n",
       " 29: 1.0312341465664345,\n",
       " 30: 1.0334595408836855,\n",
       " 31: 1.0362966396563964,\n",
       " 32: 1.038146865135196,\n",
       " 33: 1.0396752168296732,\n",
       " 34: 1.0417201925732056,\n",
       " 35: 1.0441949789172682,\n",
       " 36: 1.046368229810245,\n",
       " 37: 1.0480840963038318,\n",
       " 38: 1.0499626400996263,\n",
       " 39: 1.0518800062823936,\n",
       " 40: 1.0531479967293542,\n",
       " 41: 1.0547341447789877,\n",
       " 42: 1.056174915595608,\n",
       " 43: 1.057593292932975,\n",
       " 44: 1.0590419240373243,\n",
       " 45: 1.060019572318394,\n",
       " 46: 1.0620548795546627,\n",
       " 47: 1.063826497341123,\n",
       " 48: 1.065128229463965,\n",
       " 49: 1.0671117912260597,\n",
       " 50: 1.0683318243705553,\n",
       " 51: 1.0706992455490183,\n",
       " 52: 1.072582011179493,\n",
       " 53: 1.0746092829655225,\n",
       " 54: 1.0764602025006307,\n",
       " 55: 1.0792082096464803,\n",
       " 56: 1.0813857473569355,\n",
       " 57: 1.0834945820433437,\n",
       " 58: 1.0850176620142946,\n",
       " 59: 1.0873348861558536,\n",
       " 60: 1.089668990081985,\n",
       " 61: 1.0923538486584543,\n",
       " 62: 1.0949544168500471,\n",
       " 63: 1.0985284046568664,\n",
       " 64: 1.10129060324826,\n",
       " 65: 1.1034426590000246,\n",
       " 66: 1.1061549757051288,\n",
       " 67: 1.109341808145856,\n",
       " 68: 1.110956065795594,\n",
       " 69: 1.1129535365999965,\n",
       " 70: 1.1152400871308439,\n",
       " 71: 1.1176413828191476,\n",
       " 72: 1.1196180740425228,\n",
       " 73: 1.121351959211835,\n",
       " 74: 1.1241458272753706,\n",
       " 75: 1.1259532844563978,\n",
       " 76: 1.1276552249623668,\n",
       " 77: 1.1296087813115676,\n",
       " 78: 1.1325391338933135,\n",
       " 79: 1.1350318226022318,\n",
       " 80: 1.137509041502942,\n",
       " 81: 1.1390066297141617,\n",
       " 82: 1.1416907927030844,\n",
       " 83: 1.1435024463528025,\n",
       " 84: 1.145574310415809,\n",
       " 85: 1.1473435214292382,\n",
       " 86: 1.1500326363885203,\n",
       " 87: 1.1531648004102915,\n",
       " 88: 1.1557888824075875,\n",
       " 89: 1.157335981058581,\n",
       " 90: 1.1601810155013885,\n",
       " 91: 1.160728018456806,\n",
       " 92: 1.1627962246214436,\n",
       " 93: 1.1648663818283869,\n",
       " 94: 1.1655468025949953,\n",
       " 95: 1.167316268127392,\n",
       " 96: 1.1682420776520073,\n",
       " 97: 1.1685423970527067,\n",
       " 98: 1.1701925733712955,\n",
       " 99: 1.17054838670445,\n",
       " 100: 1.172119787155055,\n",
       " 101: 1.175228827197747,\n",
       " 102: 1.1761430097136756,\n",
       " 103: 1.1773640183493312,\n",
       " 104: 1.1795199249394042,\n",
       " 105: 1.1814580766530214,\n",
       " 106: 1.1837448670845039,\n",
       " 107: 1.1847746152798584,\n",
       " 108: 1.1865811612191421,\n",
       " 109: 1.1887888672667966,\n",
       " 110: 1.1894426580921758,\n",
       " 111: 1.1933137240835068,\n",
       " 112: 1.1944375574255839,\n",
       " 113: 1.1957974457974458,\n",
       " 114: 1.1966723034182871,\n",
       " 115: 1.1983952871147385,\n",
       " 116: 1.2001518649951186,\n",
       " 117: 1.2018465107530252,\n",
       " 118: 1.2050339592489012,\n",
       " 119: 1.2072843699718832,\n",
       " 120: 1.2087278032928224,\n",
       " 121: 1.2091545140352356,\n",
       " 122: 1.210461327388098,\n",
       " 123: 1.2145437962605676,\n",
       " 124: 1.2161737951699783,\n",
       " 125: 1.2183734391495866,\n",
       " 126: 1.2197714540125402,\n",
       " 127: 1.2204004207046804,\n",
       " 128: 1.2219779799678874,\n",
       " 129: 1.2253490911927607,\n",
       " 130: 1.2279411764705883,\n",
       " 131: 1.2288713804166838,\n",
       " 132: 1.232840668489321,\n",
       " 133: 1.2350072931860805,\n",
       " 134: 1.2372330251832961,\n",
       " 135: 1.2386321586382534,\n",
       " 136: 1.2394533832929249,\n",
       " 137: 1.2404820473471598,\n",
       " 138: 1.2427800114876508,\n",
       " 139: 1.2450470471417088,\n",
       " 140: 1.2475278568327626,\n",
       " 141: 1.2472216088908517,\n",
       " 142: 1.2500311635212285,\n",
       " 143: 1.249974788221057,\n",
       " 144: 1.2521239894959064,\n",
       " 145: 1.2512542022239461,\n",
       " 146: 1.2542203523534052,\n",
       " 147: 1.2568671719615117,\n",
       " 148: 1.259718341034225,\n",
       " 149: 1.259915014164306,\n",
       " 150: 1.2625636868920795,\n",
       " 151: 1.2606911510390715,\n",
       " 152: 1.26335027190871,\n",
       " 153: 1.26593637454982,\n",
       " 154: 1.2678952177886078,\n",
       " 155: 1.267879840034721,\n",
       " 156: 1.2686680360246485,\n",
       " 157: 1.2724755280783102,\n",
       " 158: 1.2740335831887664,\n",
       " 159: 1.2774035722663453,\n",
       " 160: 1.2761450706623532,\n",
       " 161: 1.2779506326488281,\n",
       " 162: 1.2766797038692557,\n",
       " 163: 1.2815129071690514,\n",
       " 164: 1.2809520289747949,\n",
       " 165: 1.2802942169850264,\n",
       " 166: 1.2825895759244388,\n",
       " 167: 1.2857311738976238,\n",
       " 168: 1.2864854058376651,\n",
       " 169: 1.2856912209889,\n",
       " 170: 1.2876425699515877,\n",
       " 171: 1.2875121006776378,\n",
       " 172: 1.2908286916960756,\n",
       " 173: 1.293843202232493,\n",
       " 174: 1.291957578435705,\n",
       " 175: 1.2912385073012438,\n",
       " 176: 1.2932303498409814,\n",
       " 177: 1.2959274742824933,\n",
       " 178: 1.294681861348528,\n",
       " 179: 1.2947477539737386,\n",
       " 180: 1.292891043118247,\n",
       " 181: 1.2952263880352386,\n",
       " 182: 1.3011441167208986,\n",
       " 183: 1.3014694095645205,\n",
       " 184: 1.3030035822540644,\n",
       " 185: 1.3022286444728506,\n",
       " 186: 1.3047775947281712,\n",
       " 187: 1.30637454842093,\n",
       " 188: 1.3048416369065043,\n",
       " 189: 1.30521682231872,\n",
       " 190: 1.3048438262567106,\n",
       " 191: 1.306062315842267,\n",
       " 192: 1.3079128440366972,\n",
       " 193: 1.3133707494222515,\n",
       " 194: 1.3164209115281502,\n",
       " 195: 1.3177076276927246,\n",
       " 196: 1.3188747228381374,\n",
       " 197: 1.3177278844110771,\n",
       " 198: 1.3186522949532444,\n",
       " 199: 1.3173565722585332,\n",
       " 200: 1.3199880041985306,\n",
       " 201: 1.321842682544657,\n",
       " 202: 1.3175134781898383,\n",
       " 203: 1.3199366297006587,\n",
       " 204: 1.3128443526170799,\n",
       " 205: 1.322574924632027,\n",
       " 206: 1.3272112573099415,\n",
       " 207: 1.332434693687831,\n",
       " 208: 1.3366364665911665,\n",
       " 209: 1.33466097676624,\n",
       " 210: 1.3338732729871368,\n",
       " 211: 1.334712732172072,\n",
       " 212: 1.3326973287808797,\n",
       " 213: 1.329735234215886,\n",
       " 214: 1.3298209718670075,\n",
       " 215: 1.3310416666666665,\n",
       " 216: 1.3358894049033374,\n",
       " 217: 1.3352864583333333,\n",
       " 218: 1.3403500743622012,\n",
       " 219: 1.3404947160608522,\n",
       " 220: 1.3443868322681782,\n",
       " 221: 1.3391561077623324,\n",
       " 222: 1.3432666918144096,\n",
       " 223: 1.3378588052754072,\n",
       " 224: 1.3383084577114428,\n",
       " 225: 1.3460597826086955,\n",
       " 226: 1.3452297316284954,\n",
       " 227: 1.352390552995392,\n",
       " 228: 1.3499109263657958,\n",
       " 229: 1.3503859542909034,\n",
       " 230: 1.3462264150943397,\n",
       " 231: 1.346709991876523,\n",
       " 232: 1.3467687074829933,\n",
       " 233: 1.352251164395377,\n",
       " 234: 1.360658704306913,\n",
       " 235: 1.369000933706816,\n",
       " 236: 1.3717317165593028,\n",
       " 237: 1.3754325259515572,\n",
       " 238: 1.3826961770623742,\n",
       " 239: 1.3831481869629008,\n",
       " 240: 1.3819651212250106,\n",
       " 241: 1.3753513513513516,\n",
       " 242: 1.3788111427944725,\n",
       " 243: 1.387325504099269,\n",
       " 244: 1.4037804600318833,\n",
       " 245: 1.4117784529095583,\n",
       " 246: 1.4088124410933083,\n",
       " 247: 1.411031175059952,\n",
       " 248: 1.4097171863669324,\n",
       " 249: 1.422680412371134,\n",
       " 250: 1.4224924012158056,\n",
       " 251: 1.427528675703858,\n",
       " 252: 1.4128440366972477,\n",
       " 253: 1.4147791619479047,\n",
       " 254: 1.4188107489994282,\n",
       " 255: 1.4232449752403147,\n",
       " 256: 1.424456022065584,\n",
       " 257: 1.4278937381404175,\n",
       " 258: 1.4228515625,\n",
       " 259: 1.420752182672935,\n",
       " 260: 1.430366492146597,\n",
       " 261: 1.4369925873632192,\n",
       " 262: 1.4387166546503243,\n",
       " 263: 1.450436161776368,\n",
       " 264: 1.4416631310988546,\n",
       " 265: 1.445540308747856,\n",
       " 266: 1.4437201216862234,\n",
       " 267: 1.4457777777777778,\n",
       " 268: 1.4502476361999102,\n",
       " 269: 1.4568925772245276,\n",
       " 270: 1.4644886363636365,\n",
       " 271: 1.4554597701149425,\n",
       " 272: 1.461198428290766,\n",
       " 273: 1.4686567164179105,\n",
       " 274: 1.4723643807574207,\n",
       " 275: 1.4723643807574207,\n",
       " 276: 1.4722366372599898,\n",
       " 277: 1.4644601193705915,\n",
       " 278: 1.4665551839464885,\n",
       " 279: 1.4809982983550767,\n",
       " 280: 1.4793484584060503,\n",
       " 281: 1.4711084905660379,\n",
       " 282: 1.4759259259259259,\n",
       " 283: 1.478643216080402,\n",
       " 284: 1.4698029243483788,\n",
       " 285: 1.4661508704061894,\n",
       " 286: 1.4670219853431046,\n",
       " 287: 1.4662534435261707,\n",
       " 288: 1.4510086455331412,\n",
       " 289: 1.4614254224834682,\n",
       " 290: 1.474868717179295,\n",
       " 291: 1.474868717179295,\n",
       " 292: 1.482442748091603,\n",
       " 293: 1.4905362776025237,\n",
       " 294: 1.4889795918367346,\n",
       " 295: 1.477853492333901,\n",
       " 296: 1.484320557491289,\n",
       " 297: 1.4889086069210293,\n",
       " 298: 1.5077062556663645,\n",
       " 299: 1.5088207985143918,\n",
       " 300: 1.5088207985143918,\n",
       " 301: 1.5024061597690086,\n",
       " 302: 1.5029469548133596,\n",
       " 303: 1.5114885114885117,\n",
       " 304: 1.5114885114885117,\n",
       " 305: 1.5353846153846153,\n",
       " 306: 1.505307855626327,\n",
       " 307: 1.505307855626327,\n",
       " 308: 1.505307855626327,\n",
       " 309: 1.505307855626327,\n",
       " 310: 1.505307855626327,\n",
       " 311: 1.5189599133261107,\n",
       " 312: 1.5115511551155114,\n",
       " 313: 1.52819332566168,\n",
       " 314: 1.5117096018735363,\n",
       " 315: 1.5117096018735363,\n",
       " 316: 1.5117139334155363,\n",
       " 317: 1.5117139334155363,\n",
       " 318: 1.5219638242894056,\n",
       " 319: 1.5345997286295792,\n",
       " 320: 1.5354659248956883,\n",
       " 321: 1.5624103299856527,\n",
       " 322: 1.5762195121951217,\n",
       " 323: 1.5815047021943573,\n",
       " 324: 1.5815047021943573,\n",
       " 325: 1.5815047021943573,\n",
       " 326: 1.6132686084142396,\n",
       " 327: 1.6132686084142396,\n",
       " 328: 1.6155115511551155,\n",
       " 329: 1.637901861252115,\n",
       " 330: 1.6433691756272402,\n",
       " 331: 1.665377176015474,\n",
       " 332: 1.6475409836065573,\n",
       " 333: 1.6475409836065573,\n",
       " 334: 1.6475409836065573,\n",
       " 335: 1.6475409836065573,\n",
       " 336: 1.6475409836065573,\n",
       " 337: 1.6427061310782243,\n",
       " 338: 1.6427061310782243,\n",
       " 339: 1.6391304347826088,\n",
       " 340: 1.6814988290398127,\n",
       " 341: 1.6517412935323383,\n",
       " 342: 1.645077720207254,\n",
       " 343: 1.6542553191489362,\n",
       " 344: 1.6542553191489362,\n",
       " 345: 1.6542553191489362,\n",
       " 346: 1.6147540983606556,\n",
       " 347: 1.6147540983606556,\n",
       " 348: 1.5842696629213484,\n",
       " 349: 1.5842696629213484,\n",
       " 350: 1.5842696629213484,\n",
       " 351: 1.5842696629213484,\n",
       " 352: 1.5782747603833864,\n",
       " 353: 1.5782747603833864,\n",
       " 354: 1.5566666666666666,\n",
       " 355: 1.6299212598425197,\n",
       " 356: 1.6929824561403508,\n",
       " 357: 1.7090909090909092,\n",
       " 358: 1.7090909090909092,\n",
       " 359: 1.7090909090909092,\n",
       " 360: 1.7090909090909092,\n",
       " 361: 1.7090909090909092,\n",
       " 362: 1.7500000000000002,\n",
       " 363: 1.7500000000000002,\n",
       " 364: 1.7500000000000002,\n",
       " 365: 1.7500000000000002,\n",
       " 366: 1.7500000000000002,\n",
       " 367: 1.7500000000000002,\n",
       " 368: 1.7500000000000002,\n",
       " 369: 1.7500000000000002,\n",
       " 370: 1.7500000000000002,\n",
       " 371: 1.7500000000000002,\n",
       " 372: 1.7500000000000002,\n",
       " 373: 1.7794871794871796,\n",
       " 374: 1.7794871794871796,\n",
       " 375: 1.7794871794871796,\n",
       " 376: 1.7433155080213902,\n",
       " 377: 1.7433155080213902,\n",
       " 378: 1.7333333333333334,\n",
       " 379: 1.7272727272727275,\n",
       " 380: 1.7210884353741496,\n",
       " 381: 1.7210884353741496,\n",
       " 382: 1.7210884353741496,\n",
       " 383: 1.7210884353741496,\n",
       " 384: 1.7210884353741496,\n",
       " 385: 1.7165354330708662,\n",
       " 386: 1.7165354330708662,\n",
       " 387: 1.7033898305084745,\n",
       " 388: 1.7033898305084745,\n",
       " 389: 1.7033898305084745,\n",
       " 390: 1.7033898305084745,\n",
       " 391: 1.7033898305084745,\n",
       " 392: 1.7181818181818183,\n",
       " 393: 1.7181818181818183,\n",
       " 394: 1.7181818181818183,\n",
       " 395: 1.7181818181818183,\n",
       " 396: 1.7181818181818183,\n",
       " 397: 1.6730769230769231,\n",
       " 398: 1.7446808510638296,\n",
       " 399: 1.7446808510638296,\n",
       " 400: 1.7446808510638296,\n",
       " 401: 1.7446808510638296,\n",
       " 402: 1.7446808510638296,\n",
       " 403: 1.7446808510638296,\n",
       " 404: 1.7446808510638296,\n",
       " 405: 1.7446808510638296,\n",
       " 406: 1.7446808510638296,\n",
       " 407: 1.7446808510638296,\n",
       " 408: 1.7093023255813953,\n",
       " 409: 1.6875000000000002,\n",
       " 410: 1.903225806451613,\n",
       " 411: 1.903225806451613,\n",
       " 412: 1.903225806451613,\n",
       " 413: 1.9090909090909092,\n",
       " 414: 1.9090909090909092,\n",
       " 415: 1.8,\n",
       " 416: 1.7999999999999998,\n",
       " 417: 1.7999999999999998,\n",
       " 418: 1.7999999999999998,\n",
       " 419: 1.7999999999999998,\n",
       " 420: 1.7999999999999998,\n",
       " 421: 1.7999999999999998,\n",
       " 422: 1.7999999999999998,\n",
       " 423: 1.7999999999999998,\n",
       " 424: 1.7999999999999998,\n",
       " 425: 1.7999999999999998,\n",
       " 426: 1.7999999999999998,\n",
       " 427: 1.7999999999999998,\n",
       " 428: 1.7999999999999998,\n",
       " 429: 1.7999999999999998,\n",
       " 430: 1.7999999999999998,\n",
       " 431: 1.7073170731707317,\n",
       " 432: 1.7073170731707317,\n",
       " 433: 1.7073170731707317,\n",
       " 434: 1.7073170731707317,\n",
       " 435: 1.7073170731707317,\n",
       " 436: 1.6111111111111112,\n",
       " 437: 1.6111111111111112,\n",
       " 438: 1.6111111111111112,\n",
       " 439: 1.6111111111111112,\n",
       " 440: 1.6785714285714286,\n",
       " 441: 1.6785714285714286,\n",
       " 442: 1.6785714285714286,\n",
       " 443: 1.75,\n",
       " 444: 1.75,\n",
       " 445: 1.75,\n",
       " 446: 1.75,\n",
       " 447: 1.75,\n",
       " 448: 1.75,\n",
       " 449: 1.7368421052631577,\n",
       " 450: 1.4705882352941178,\n",
       " 451: 1.4705882352941178,\n",
       " 452: 1.4705882352941178,\n",
       " 453: 1.4705882352941178,\n",
       " 454: 1.4705882352941178,\n",
       " 455: 1.4705882352941178,\n",
       " 456: 1.4705882352941178,\n",
       " 457: 1.4705882352941178,\n",
       " 458: 1.4705882352941178,\n",
       " 459: 1.4705882352941178,\n",
       " 460: 1.4705882352941178,\n",
       " 461: 1.4705882352941178,\n",
       " 462: 1.4705882352941178,\n",
       " 463: 1.4705882352941178,\n",
       " 464: 1.4705882352941178,\n",
       " 465: 1.4705882352941178,\n",
       " 466: 1.4705882352941178,\n",
       " 467: 1.4705882352941178,\n",
       " 468: 1.4705882352941178,\n",
       " 469: 1.4705882352941178,\n",
       " 470: 1.6666666666666667,\n",
       " 471: 1.6666666666666667,\n",
       " 472: 1.6666666666666667,\n",
       " 473: 1.6666666666666667,\n",
       " 474: 1.6666666666666667,\n",
       " 475: 1.6666666666666667,\n",
       " 476: 1.6666666666666667,\n",
       " 477: 1.6666666666666667,\n",
       " 478: 1.6666666666666667,\n",
       " 479: 1.6666666666666667,\n",
       " 480: 1.6666666666666667,\n",
       " 481: 1.6666666666666667,\n",
       " 482: 1.6666666666666667,\n",
       " 483: 1.6666666666666667,\n",
       " 484: 1.6666666666666667,\n",
       " 485: 1.6666666666666667,\n",
       " 486: 1.6666666666666667,\n",
       " 487: 1.6666666666666667,\n",
       " 488: 1.6666666666666667,\n",
       " 489: 1.6666666666666667,\n",
       " 490: 1.6666666666666667,\n",
       " 491: 1.6666666666666667,\n",
       " 492: 1.6666666666666667,\n",
       " 493: 1.6666666666666667,\n",
       " 494: 1.6666666666666667,\n",
       " 495: 1.6666666666666667,\n",
       " 496: 1.5555555555555556,\n",
       " 497: 1.5555555555555556,\n",
       " 498: 1.5555555555555556,\n",
       " 499: 1.5555555555555556,\n",
       " 500: 1.5555555555555556,\n",
       " 501: 1.5555555555555556,\n",
       " 502: 1.5555555555555556,\n",
       " 503: 1.5555555555555556,\n",
       " 504: 1.5555555555555556,\n",
       " 505: 1.5555555555555556,\n",
       " 506: 1.5555555555555556,\n",
       " 507: 1.5,\n",
       " 508: 1.5,\n",
       " 509: 1.5,\n",
       " 510: 1.5,\n",
       " 511: 1.5,\n",
       " 512: 1.5,\n",
       " 513: 1.5,\n",
       " 514: 1.5,\n",
       " 515: 1.5,\n",
       " 516: 1.5,\n",
       " 517: 1.5,\n",
       " 518: 1.5,\n",
       " 519: 1.5,\n",
       " 520: 1.5,\n",
       " 521: 1.5,\n",
       " 522: 1.5,\n",
       " 523: 1.5,\n",
       " 524: 1.5,\n",
       " 525: 1.5,\n",
       " 526: 1.5,\n",
       " 527: 1.5,\n",
       " 528: 1.5,\n",
       " 529: 1.5,\n",
       " 530: 1.5,\n",
       " 531: 1.5,\n",
       " 532: 1.5,\n",
       " 533: 1.5,\n",
       " 534: 1.5,\n",
       " 535: 1.5,\n",
       " 536: 1.5,\n",
       " 537: 1.5,\n",
       " 538: 1.5,\n",
       " 539: 1.5,\n",
       " 540: 1.5,\n",
       " 541: 1.5,\n",
       " 542: 1.5,\n",
       " 543: 1.5,\n",
       " 544: 1.5,\n",
       " 545: 1.5,\n",
       " 546: 1.5,\n",
       " 547: 1.5,\n",
       " 548: 1.5,\n",
       " 549: 1.5,\n",
       " 550: 1.5,\n",
       " 551: 1.5,\n",
       " 552: 1.5,\n",
       " 553: 1.5,\n",
       " 554: 1.5,\n",
       " 555: 1.5,\n",
       " 556: 1.5,\n",
       " 557: 1.5,\n",
       " 558: 1.5,\n",
       " 559: 1.5,\n",
       " 560: 1.5,\n",
       " 561: 1.5,\n",
       " 562: 1.5,\n",
       " 563: 1.5,\n",
       " 564: 1.5,\n",
       " 565: 1.5,\n",
       " 566: 1.5,\n",
       " 567: 1.5,\n",
       " 568: 1.5,\n",
       " 569: 1.5,\n",
       " 570: 1.5,\n",
       " 571: 1.5,\n",
       " 572: 1.5,\n",
       " 573: 1.5,\n",
       " 574: 1.5,\n",
       " 575: 1.5,\n",
       " 576: 1.5,\n",
       " 577: 1.0,\n",
       " 578: 1.0,\n",
       " 579: 1.0,\n",
       " 580: 1.0,\n",
       " 581: 1.0,\n",
       " 582: 1.0,\n",
       " 583: 1.0,\n",
       " 584: 1.0,\n",
       " 585: 1.0}"
      ]
     },
     "execution_count": 148,
     "metadata": {},
     "output_type": "execute_result"
    }
   ],
   "source": [
    "# takes ~30 minutes ? or load below\n",
    "rcc = nx.rich_club_coefficient(G)\n",
    "save(rcc,'180524_bibliographic_coupling_rich_club_coefficients.dat')"
   ]
  },
  {
   "cell_type": "code",
   "execution_count": 8,
   "metadata": {
    "collapsed": true
   },
   "outputs": [],
   "source": [
    "rcc = load('180524_bibliographic_coupling_rich_club_coefficients.dat')"
   ]
  },
  {
   "cell_type": "code",
   "execution_count": 44,
   "metadata": {},
   "outputs": [
    {
     "data": {
      "image/png": "[encoded data removed]",
      "text/plain": [
       "<matplotlib.figure.Figure at 0x1398ba090>"
      ]
     },
     "metadata": {},
     "output_type": "display_data"
    }
   ],
   "source": [
    "sortedDegrees = np.sort(rcc.keys())\n",
    "pylab.plot(sortedDegrees,[rcc[d] for d in sortedDegrees],'o:')\n",
    "pylab.xlabel('Bibliographic coupling degree threshold')\n",
    "pylab.ylabel('Rich club coefficient')\n",
    "pylab.subplots_adjust(bottom=0.15,top=0.95)\n",
    "pylab.savefig('180731_rich_club_coefficient.pdf')"
   ]
  },
  {
   "cell_type": "code",
   "execution_count": 9,
   "metadata": {},
   "outputs": [
    {
     "name": "stdout",
     "output_type": "stream",
     "text": [
      "Maximum rich club coefficient of 1.90909090909 occurs at degree 413\n"
     ]
    }
   ],
   "source": [
    "sortedDegrees = np.sort(rcc.keys())\n",
    "maxindex = np.argmax([rcc[d] for d in sortedDegrees])\n",
    "print \"Maximum rich club coefficient of\",rcc[sortedDegrees[maxindex]],\"occurs at degree\",sortedDegrees[maxindex]"
   ]
  },
  {
   "cell_type": "code",
   "execution_count": 21,
   "metadata": {},
   "outputs": [
    {
     "data": {
      "text/plain": [
       "17"
      ]
     },
     "execution_count": 21,
     "metadata": {},
     "output_type": "execute_result"
    }
   ],
   "source": [
    "len(richClubNodes(degrees(coupling),413))"
   ]
  },
  {
   "cell_type": "code",
   "execution_count": 22,
   "metadata": {},
   "outputs": [
    {
     "name": "stdout",
     "output_type": "stream",
     "text": [
      "The rich club coefficient for a threshold of 300 is 1.50882079851 .\n",
      "This represents a rich club consisting of 86 publications, representing 1.33209417596 percent of publications in the corpus.\n"
     ]
    }
   ],
   "source": [
    "threshold = 300\n",
    "numRich = len(richClubNodes(degrees(coupling),threshold))\n",
    "print \"The rich club coefficient for a threshold of\",threshold,\"is\",rcc[300],\".\"\n",
    "print \"This represents a rich club consisting of\",numRich,\"publications, representing\",\\\n",
    "    100.*float(numRich)/len(coupling),\"percent of publications in the corpus.\""
   ]
  },
  {
   "cell_type": "code",
   "execution_count": null,
   "metadata": {
    "collapsed": true
   },
   "outputs": [],
   "source": []
  },
  {
   "cell_type": "code",
   "execution_count": null,
   "metadata": {
    "collapsed": true
   },
   "outputs": [],
   "source": []
  },
  {
   "cell_type": "code",
   "execution_count": null,
   "metadata": {
    "collapsed": true
   },
   "outputs": [],
   "source": []
  },
  {
   "cell_type": "code",
   "execution_count": null,
   "metadata": {
    "collapsed": true
   },
   "outputs": [],
   "source": []
  },
  {
   "cell_type": "code",
   "execution_count": null,
   "metadata": {
    "collapsed": true
   },
   "outputs": [],
   "source": []
  },
  {
   "cell_type": "code",
   "execution_count": null,
   "metadata": {
    "collapsed": true
   },
   "outputs": [],
   "source": []
  },
  {
   "cell_type": "code",
   "execution_count": null,
   "metadata": {
    "collapsed": true
   },
   "outputs": [],
   "source": []
  },
  {
   "cell_type": "code",
   "execution_count": null,
   "metadata": {
    "collapsed": true
   },
   "outputs": [],
   "source": []
  },
  {
   "cell_type": "code",
   "execution_count": null,
   "metadata": {
    "collapsed": true
   },
   "outputs": [],
   "source": []
  },
  {
   "cell_type": "code",
   "execution_count": null,
   "metadata": {
    "collapsed": true
   },
   "outputs": [],
   "source": []
  },
  {
   "cell_type": "code",
   "execution_count": null,
   "metadata": {
    "collapsed": true
   },
   "outputs": [],
   "source": []
  },
  {
   "cell_type": "code",
   "execution_count": null,
   "metadata": {
    "collapsed": true
   },
   "outputs": [],
   "source": []
  },
  {
   "cell_type": "code",
   "execution_count": null,
   "metadata": {
    "collapsed": true
   },
   "outputs": [],
   "source": []
  },
  {
   "cell_type": "code",
   "execution_count": null,
   "metadata": {
    "collapsed": true
   },
   "outputs": [],
   "source": []
  },
  {
   "cell_type": "code",
   "execution_count": null,
   "metadata": {
    "collapsed": true
   },
   "outputs": [],
   "source": []
  },
  {
   "cell_type": "code",
   "execution_count": null,
   "metadata": {
    "collapsed": true
   },
   "outputs": [],
   "source": []
  }
 ],
 "metadata": {
  "kernelspec": {
   "display_name": "Python 2",
   "language": "python",
   "name": "python2"
  },
  "language_info": {
   "codemirror_mode": {
    "name": "ipython",
    "version": 2
   },
   "file_extension": ".py",
   "mimetype": "text/x-python",
   "name": "python",
   "nbconvert_exporter": "python",
   "pygments_lexer": "ipython2",
   "version": "2.7.13"
  }
 },
 "nbformat": 4,
 "nbformat_minor": 2
}
