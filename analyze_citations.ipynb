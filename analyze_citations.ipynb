{
 "cells": [
  {
   "cell_type": "code",
   "execution_count": null,
   "metadata": {
    "collapsed": true
   },
   "outputs": [],
   "source": [
    "# analyze_citations.ipynb\n",
    "#\n",
    "# Bryan Daniels\n",
    "# 8.29.2018\n",
    "#\n",
    "# Compare citation counts (per year) for innovative papers to the entire corpus.\n",
    "#"
   ]
  },
  {
   "cell_type": "code",
   "execution_count": 1,
   "metadata": {
    "collapsed": true
   },
   "outputs": [],
   "source": [
    "%matplotlib inline\n",
    "import pylab\n",
    "import toolbox.defaultFigure as defaultFigure\n",
    "defaultFigure.setDefaultParams()"
   ]
  },
  {
   "cell_type": "code",
   "execution_count": 3,
   "metadata": {
    "collapsed": true
   },
   "outputs": [],
   "source": [
    "import pandas as pd\n",
    "import numpy as np"
   ]
  },
  {
   "cell_type": "code",
   "execution_count": 35,
   "metadata": {
    "collapsed": true
   },
   "outputs": [],
   "source": [
    "from scipy.stats import ks_2samp"
   ]
  },
  {
   "cell_type": "code",
   "execution_count": null,
   "metadata": {
    "collapsed": true
   },
   "outputs": [],
   "source": []
  },
  {
   "cell_type": "code",
   "execution_count": 144,
   "metadata": {
    "collapsed": true
   },
   "outputs": [],
   "source": [
    "# 8.29.2018 taken from paper-figures-rich-club.ipynb\n",
    "def cdfPlot(allvalues,innovativevalues,samples=100):\n",
    "    \"\"\"\n",
    "    samples (100)         : if given a number of samples,\n",
    "                            also plot 90% confidence intervals \n",
    "                            corresponding to randomly choosing \n",
    "                            a subset of allvalues with same\n",
    "                            length as innovativevalues\n",
    "    \"\"\"\n",
    "    sortedvals = np.sort(allvalues)\n",
    "    Fvals = (np.array(range(len(sortedvals)))+1)/float(len(sortedvals))\n",
    "\n",
    "    sortedinnovativevals = np.sort(innovativevalues)\n",
    "    Finnovativevals = (np.array(range(len(sortedinnovativevals)))+1)/float(len(sortedinnovativevals))\n",
    "    \n",
    "    if samples > 0:\n",
    "        FrandomvalsAllList = []\n",
    "        for i in range(samples):\n",
    "            randomindices = np.random.choice(range(len(allvalues)),len(innovativevalues),replace=False)\n",
    "            #Frandomvals = (np.array(range(len(randomvals)))+1)/float(len(randomvals))\n",
    "            F = 0.\n",
    "            FrandomvalsAll = []\n",
    "            # the y-value for all unobserved points should be equal to the y-value of the closest\n",
    "            # point with smaller x-value\n",
    "            for idx in range(len(sortedvals)):\n",
    "                if idx in randomindices:\n",
    "                    F += 1./len(randomindices)\n",
    "                FrandomvalsAll.append(F)\n",
    "            FrandomvalsAllList.append(FrandomvalsAll)\n",
    "        defaultFigure.prettyConfInt(pylab.gca(),\n",
    "               sortedvals,\n",
    "               np.median(FrandomvalsAllList,axis=0),\n",
    "               np.percentile(FrandomvalsAllList,5,axis=0),\n",
    "               np.percentile(FrandomvalsAllList,95,axis=0),color='C0',ls='')    \n",
    "    \n",
    "    pylab.plot(sortedvals,Fvals,label='all papers',drawstyle='steps-post')\n",
    "    pylab.plot(sortedinnovativevals,Finnovativevals,label='innovative papers',drawstyle='steps-post')\n",
    "    pylab.legend()\n",
    "    pylab.axis(ymin=0,ymax=1)\n",
    "    #pylab.ylabel('Cumulative distribution function')\n",
    "    pylab.ylabel('Cumulative probability') # AKA 'Empirical distribution function'\n",
    "    pylab.subplots_adjust(bottom=0.15)"
   ]
  },
  {
   "cell_type": "code",
   "execution_count": 8,
   "metadata": {
    "collapsed": true
   },
   "outputs": [],
   "source": [
    "# citation counts \n",
    "citationDataInnovative = pd.read_excel('Data/180829/InnovativePapers_Top100_Post2006_wCitations.xlsx')\n",
    "citationDataAll = pd.read_excel('Data/180829/InnovativePapers_Top100_Post2006_wCitations.xlsx',sheetname=1)"
   ]
  },
  {
   "cell_type": "code",
   "execution_count": 65,
   "metadata": {
    "collapsed": true
   },
   "outputs": [],
   "source": [
    "limitYears = False #True\n",
    "if limitYears:\n",
    "    minYearInnovative,maxYearInnovative = 2007,2014 # to match with innovative paper years\n",
    "else:\n",
    "    minYearInnovative,maxYearInnovative = int(min(citationDataAll['Publication Year'])),\\\n",
    "                                      int(max(citationDataAll['Publication Year'])) # to use all years\n",
    "\n",
    "citationsInnovative = citationDataInnovative['Citations per Year']\\\n",
    "                                [np.logical_and(citationDataInnovative['Year'] <= maxYearInnovative,\n",
    "                                                citationDataInnovative['Year'] >= minYearInnovative)]\n",
    "citationsAll = citationDataAll['Citations per Year']\\\n",
    "                                [np.logical_and(citationDataAll['Publication Year'] <= maxYearInnovative,\n",
    "                                                citationDataAll['Publication Year'] >= minYearInnovative)]"
   ]
  },
  {
   "cell_type": "code",
   "execution_count": 66,
   "metadata": {},
   "outputs": [
    {
     "name": "stdout",
     "output_type": "stream",
     "text": [
      "There are 100 innovative papers published between 1949 and 2017\n",
      "There are 9096 total papers published between 1949 and 2017\n"
     ]
    }
   ],
   "source": [
    "print \"There are\",len(citationsInnovative),\"innovative papers published between\",\\\n",
    "        minYearInnovative,\"and\",maxYearInnovative\n",
    "print \"There are\",len(citationsAll),\"total papers published between\",\\\n",
    "        minYearInnovative,\"and\",maxYearInnovative"
   ]
  },
  {
   "cell_type": "code",
   "execution_count": 15,
   "metadata": {},
   "outputs": [
    {
     "data": {
      "text/plain": [
       "<matplotlib.axes._subplots.AxesSubplot at 0x10db24b90>"
      ]
     },
     "execution_count": 15,
     "metadata": {},
     "output_type": "execute_result"
    },
    {
     "data": {
      "image/png": "[encoded data removed]",
      "text/plain": [
       "<matplotlib.figure.Figure at 0x10d9fe890>"
      ]
     },
     "metadata": {},
     "output_type": "display_data"
    }
   ],
   "source": [
    "citationDataInnovative['Year'].plot.hist(bins=range(2006,2013))"
   ]
  },
  {
   "cell_type": "code",
   "execution_count": 67,
   "metadata": {},
   "outputs": [
    {
     "name": "stdout",
     "output_type": "stream",
     "text": [
      "All years\n",
      "Mean citations per year for all papers (N = 9096):      10.5654679922\n",
      "Mean citations per year for innovative papers (N = 100): 17.3944473304\n",
      "KS test: Ks_2sampResult(statistic=0.13532981530343013, pvalue=0.04851005223201485)\n"
     ]
    },
    {
     "data": {
      "image/png": "[encoded data removed]",
      "text/plain": [
       "<matplotlib.figure.Figure at 0x10ffd6890>"
      ]
     },
     "metadata": {},
     "output_type": "display_data"
    }
   ],
   "source": [
    "cdfPlot(citationsAll,citationsInnovative)\n",
    "pylab.xlabel('Citations per year')\n",
    "if limitYears:\n",
    "    typeStr = str(minYearInnovative)+' to '+str(maxYearInnovative)\n",
    "else:\n",
    "    typeStr = 'All years'\n",
    "pylab.title(typeStr)\n",
    "pylab.legend(loc=4)\n",
    "pylab.savefig('180829_citation_cumuluative_distributions_'+typeStr.replace(' ','_')+'.pdf')\n",
    "\n",
    "print typeStr\n",
    "print \"Mean citations per year for all papers (N = \"+str(len(citationsAll))+\"):     \",np.mean(citationsAll)\n",
    "print \"Mean citations per year for innovative papers (N = \"+str(len(citationsInnovative))+\"):\",\\\n",
    "        np.mean(citationsInnovative)\n",
    "print \"KS test:\",ks_2samp(citationsAll,citationsInnovative)"
   ]
  },
  {
   "cell_type": "markdown",
   "metadata": {
    "collapsed": true
   },
   "source": [
    "# 9.6.2018 are there significant differences between the \"core\" and \"periphery\"?"
   ]
  },
  {
   "cell_type": "code",
   "execution_count": 82,
   "metadata": {
    "collapsed": true
   },
   "outputs": [],
   "source": [
    "# 9.6.2018 taken from paper-figures-rich-club-innovation.ipynb\n",
    "def degrees(coupling):\n",
    "    \"\"\"\n",
    "    Given coupling dataframe, return series of degrees.\n",
    "    \n",
    "    Edges are currently defined as sharing a nonzero number of references.\n",
    "    (We throw away information about the number of shared references.)\n",
    "    \"\"\"\n",
    "    return (coupling>0).sum(axis=1)"
   ]
  },
  {
   "cell_type": "code",
   "execution_count": 149,
   "metadata": {},
   "outputs": [],
   "source": [
    "# 9.6.2018 taken from paper-figures-rich-club-innovative.ipynb\n",
    "\n",
    "# bibliographic coupling over all years\n",
    "coupling = pd.read_excel('Data/180426/Bibliographic_Coupling_Matrix.xlsx')"
   ]
  },
  {
   "cell_type": "code",
   "execution_count": 155,
   "metadata": {},
   "outputs": [],
   "source": [
    "# 9.6.2018 taken from paper-figures-rich-club-innovative.ipynb\n",
    "\n",
    "# 6.7.2018 get years for all papers.  \n",
    "paperData = pd.read_excel('Data/180426/Bibliographic_Coupling_Matrix.xlsx',1)\n",
    "paperData['Year'] = paperData['Title'].apply(lambda t: int(t[-5:-1]))\n",
    "paperData.set_index('Name',inplace=True)\n",
    "years = np.sort(paperData['Year'].unique())\n",
    "\n",
    "# calculate bibiographic coupling to papers published anytime before the same year\n",
    "couplingByYear = {}\n",
    "for year in years:\n",
    "    papers = list( paperData[paperData['Year'] <= year].index )\n",
    "    couplingByYear[year] = coupling.loc[papers,papers]"
   ]
  },
  {
   "cell_type": "code",
   "execution_count": 211,
   "metadata": {},
   "outputs": [
    {
     "name": "stdout",
     "output_type": "stream",
     "text": [
      "ID = 2810\n",
      "coupling XLSX: jarrell (2010)\n",
      "citation XLSX: jarrell (2011)\n",
      "\n",
      "ID = 5685\n",
      "coupling XLSX: althouse (2009)\n",
      "citation XLSX: althouse (2010)\n",
      "\n",
      "ID = 5684\n",
      "coupling XLSX: althouse (2010)\n",
      "citation XLSX: althouse (2009)\n",
      "\n",
      "ID = 989\n",
      "coupling XLSX: finch (2011)\n",
      "citation XLSX: finch (2008)\n",
      "\n",
      "ID = 1075\n",
      "coupling XLSX: flatt (2009)\n",
      "citation XLSX: flatt (2007)\n",
      "\n",
      "ID = 1076\n",
      "coupling XLSX: flatt (2009)\n",
      "citation XLSX: flatt (2007)\n",
      "\n"
     ]
    }
   ],
   "source": [
    "# 9.6.2018 check that names match for innovative papers\n",
    "for idx,name,year in zip(citationDataInnovative['ID numbers'],citationDataInnovative['First Author'],\n",
    "                         citationDataInnovative['Year']):\n",
    "    xlsxName = paperData.loc[idx].Title\n",
    "    if not xlsxName.startswith(name) or xlsxName.find(str(year)) == -1:\n",
    "        print \"ID =\",idx\n",
    "        print \"coupling XLSX:\", xlsxName\n",
    "        print \"citation XLSX:\", name, \"(\"+str(year)+\")\"\n",
    "        print"
   ]
  },
  {
   "cell_type": "code",
   "execution_count": 92,
   "metadata": {},
   "outputs": [],
   "source": [
    "# make new dataframe indexed by paper ID\n",
    "citationDataInnovativeID = citationDataInnovative.set_index('ID numbers')"
   ]
  },
  {
   "cell_type": "code",
   "execution_count": 98,
   "metadata": {},
   "outputs": [],
   "source": [
    "# calculate bibliographic coupling at the time of data collection\n",
    "citationDataInnovativeID['bibliographic coupling'] = degrees(coupling)"
   ]
  },
  {
   "cell_type": "code",
   "execution_count": 198,
   "metadata": {},
   "outputs": [
    {
     "name": "stdout",
     "output_type": "stream",
     "text": [
      "ERROR: NO COUPLING DATA FOUND\n",
      "       ID = 5684\n",
      "       year = 2009\n",
      "\n",
      "ERROR: NO COUPLING DATA FOUND\n",
      "       ID = 989\n",
      "       year = 2008\n",
      "\n",
      "ERROR: NO COUPLING DATA FOUND\n",
      "       ID = 1075\n",
      "       year = 2007\n",
      "\n",
      "ERROR: NO COUPLING DATA FOUND\n",
      "       ID = 1076\n",
      "       year = 2007\n",
      "\n"
     ]
    }
   ],
   "source": [
    "# calculate bibliographic coupling at the year of publication\n",
    "def couplingAtPublication(row):\n",
    "    try:\n",
    "        return degrees(couplingByYear[row['Year']]).loc[row.name]\n",
    "    except:\n",
    "        print \"ERROR: NO COUPLING DATA FOUND\"\n",
    "        print \"       ID =\",row.name\n",
    "        print \"       year =\",row['Year']\n",
    "        print\n",
    "citationDataInnovativeID['bibliographic coupling at publication'] = \\\n",
    "    citationDataInnovativeID.apply(couplingAtPublication,axis=1)"
   ]
  },
  {
   "cell_type": "code",
   "execution_count": 200,
   "metadata": {},
   "outputs": [
    {
     "data": {
      "text/html": [
       "<div>\n",
       "<style>\n",
       "    .dataframe thead tr:only-child th {\n",
       "        text-align: right;\n",
       "    }\n",
       "\n",
       "    .dataframe thead th {\n",
       "        text-align: left;\n",
       "    }\n",
       "\n",
       "    .dataframe tbody tr th {\n",
       "        vertical-align: top;\n",
       "    }\n",
       "</style>\n",
       "<table border=\"1\" class=\"dataframe\">\n",
       "  <thead>\n",
       "    <tr style=\"text-align: right;\">\n",
       "      <th></th>\n",
       "      <th>First Author</th>\n",
       "      <th>Year</th>\n",
       "      <th>Citations</th>\n",
       "      <th>Unnamed: 4</th>\n",
       "      <th>Years since 2018</th>\n",
       "      <th>Citations per Year</th>\n",
       "      <th>Unnamed: 7</th>\n",
       "      <th>Average Citations Per Year</th>\n",
       "      <th>bibliographic coupling</th>\n",
       "      <th>bibliographic coupling at publication</th>\n",
       "    </tr>\n",
       "    <tr>\n",
       "      <th>ID numbers</th>\n",
       "      <th></th>\n",
       "      <th></th>\n",
       "      <th></th>\n",
       "      <th></th>\n",
       "      <th></th>\n",
       "      <th></th>\n",
       "      <th></th>\n",
       "      <th></th>\n",
       "      <th></th>\n",
       "      <th></th>\n",
       "    </tr>\n",
       "  </thead>\n",
       "  <tbody>\n",
       "    <tr>\n",
       "      <th>985</th>\n",
       "      <td>crimmins</td>\n",
       "      <td>2012</td>\n",
       "      <td>27</td>\n",
       "      <td>NaN</td>\n",
       "      <td>6</td>\n",
       "      <td>4.500000</td>\n",
       "      <td>NaN</td>\n",
       "      <td>17.394447</td>\n",
       "      <td>47</td>\n",
       "      <td>32.0</td>\n",
       "    </tr>\n",
       "    <tr>\n",
       "      <th>3505</th>\n",
       "      <td>eizaguirre</td>\n",
       "      <td>2012</td>\n",
       "      <td>109</td>\n",
       "      <td>NaN</td>\n",
       "      <td>6</td>\n",
       "      <td>18.166667</td>\n",
       "      <td>NaN</td>\n",
       "      <td>NaN</td>\n",
       "      <td>159</td>\n",
       "      <td>92.0</td>\n",
       "    </tr>\n",
       "    <tr>\n",
       "      <th>4976</th>\n",
       "      <td>ruths</td>\n",
       "      <td>2012</td>\n",
       "      <td>46</td>\n",
       "      <td>NaN</td>\n",
       "      <td>6</td>\n",
       "      <td>7.666667</td>\n",
       "      <td>NaN</td>\n",
       "      <td>NaN</td>\n",
       "      <td>61</td>\n",
       "      <td>30.0</td>\n",
       "    </tr>\n",
       "    <tr>\n",
       "      <th>3506</th>\n",
       "      <td>eizaguirre</td>\n",
       "      <td>2012</td>\n",
       "      <td>78</td>\n",
       "      <td>NaN</td>\n",
       "      <td>6</td>\n",
       "      <td>13.000000</td>\n",
       "      <td>NaN</td>\n",
       "      <td>NaN</td>\n",
       "      <td>102</td>\n",
       "      <td>57.0</td>\n",
       "    </tr>\n",
       "    <tr>\n",
       "      <th>226</th>\n",
       "      <td>keller</td>\n",
       "      <td>2012</td>\n",
       "      <td>74</td>\n",
       "      <td>NaN</td>\n",
       "      <td>6</td>\n",
       "      <td>12.333333</td>\n",
       "      <td>NaN</td>\n",
       "      <td>NaN</td>\n",
       "      <td>2</td>\n",
       "      <td>1.0</td>\n",
       "    </tr>\n",
       "  </tbody>\n",
       "</table>\n",
       "</div>"
      ],
      "text/plain": [
       "           First Author  Year  Citations  Unnamed: 4  Years since 2018  \\\n",
       "ID numbers                                                               \n",
       "985            crimmins  2012         27         NaN                 6   \n",
       "3505         eizaguirre  2012        109         NaN                 6   \n",
       "4976              ruths  2012         46         NaN                 6   \n",
       "3506         eizaguirre  2012         78         NaN                 6   \n",
       "226              keller  2012         74         NaN                 6   \n",
       "\n",
       "            Citations per Year  Unnamed: 7  Average Citations Per Year  \\\n",
       "ID numbers                                                               \n",
       "985                   4.500000         NaN                   17.394447   \n",
       "3505                 18.166667         NaN                         NaN   \n",
       "4976                  7.666667         NaN                         NaN   \n",
       "3506                 13.000000         NaN                         NaN   \n",
       "226                  12.333333         NaN                         NaN   \n",
       "\n",
       "            bibliographic coupling  bibliographic coupling at publication  \n",
       "ID numbers                                                                 \n",
       "985                             47                                   32.0  \n",
       "3505                           159                                   92.0  \n",
       "4976                            61                                   30.0  \n",
       "3506                           102                                   57.0  \n",
       "226                              2                                    1.0  "
      ]
     },
     "execution_count": 200,
     "metadata": {},
     "output_type": "execute_result"
    }
   ],
   "source": [
    "citationDataInnovativeID.head()"
   ]
  },
  {
   "cell_type": "code",
   "execution_count": 201,
   "metadata": {},
   "outputs": [
    {
     "data": {
      "text/plain": [
       "<matplotlib.axes._subplots.AxesSubplot at 0x110bf1a50>"
      ]
     },
     "execution_count": 201,
     "metadata": {},
     "output_type": "execute_result"
    },
    {
     "data": {
      "image/png": "[encoded data removed]",
      "text/plain": [
       "<matplotlib.figure.Figure at 0x110bf1390>"
      ]
     },
     "metadata": {},
     "output_type": "display_data"
    }
   ],
   "source": [
    "citationDataInnovativeID.plot.scatter('Citations per Year','bibliographic coupling at publication')"
   ]
  },
  {
   "cell_type": "code",
   "execution_count": 202,
   "metadata": {},
   "outputs": [
    {
     "data": {
      "text/plain": [
       "SpearmanrResult(correlation=nan, pvalue=nan)"
      ]
     },
     "execution_count": 202,
     "metadata": {},
     "output_type": "execute_result"
    }
   ],
   "source": [
    "# is there a significant spearman correlation between citations and coupling in innovative papers? No\n",
    "scipy.stats.spearmanr(citationDataInnovativeID['Citations per Year'],\n",
    "                      citationDataInnovativeID['bibliographic coupling at publication'])"
   ]
  },
  {
   "cell_type": "code",
   "execution_count": 127,
   "metadata": {},
   "outputs": [
    {
     "data": {
      "text/plain": [
       "(-0.025066766537090217, 0.8044786990308291)"
      ]
     },
     "execution_count": 127,
     "metadata": {},
     "output_type": "execute_result"
    }
   ],
   "source": [
    "# is there a significant pearson correlation between citations and coupling in innovative papers? No\n",
    "scipy.stats.pearsonr(citationDataInnovativeID['Citations per Year'],\n",
    "                     citationDataInnovativeID['bibliographic coupling'])"
   ]
  },
  {
   "cell_type": "code",
   "execution_count": null,
   "metadata": {
    "collapsed": true
   },
   "outputs": [],
   "source": []
  },
  {
   "cell_type": "code",
   "execution_count": 204,
   "metadata": {},
   "outputs": [
    {
     "name": "stdout",
     "output_type": "stream",
     "text": [
      "Median bibliographic coupling at publication = 7.0\n"
     ]
    },
    {
     "data": {
      "text/plain": [
       "<matplotlib.legend.Legend at 0x1254a9410>"
      ]
     },
     "execution_count": 204,
     "metadata": {},
     "output_type": "execute_result"
    },
    {
     "data": {
      "image/png": "[encoded data removed]",
      "text/plain": [
       "<matplotlib.figure.Figure at 0x110c1bf10>"
      ]
     },
     "metadata": {},
     "output_type": "display_data"
    }
   ],
   "source": [
    "# is there a significant difference in citations between high- and low-coupling innovative papers?\n",
    "# (split at the median coupling)\n",
    "medianCoupling = citationDataInnovativeID['bibliographic coupling at publication'].median()\n",
    "print \"Median bibliographic coupling at publication =\",medianCoupling\n",
    "periphery = citationDataInnovativeID['bibliographic coupling at publication'] < medianCoupling\n",
    "core = citationDataInnovativeID['bibliographic coupling at publication'] > medianCoupling\n",
    "citationsPeriphery = citationDataInnovativeID.loc[periphery]['Citations per Year']\n",
    "citationsCore = citationDataInnovativeID.loc[core]['Citations per Year']\n",
    "\n",
    "cdfPlot(citationsCore,citationsPeriphery)\n",
    "pylab.xlabel('Citations per Year')\n",
    "pylab.legend(['','core','periphery'])"
   ]
  },
  {
   "cell_type": "code",
   "execution_count": 209,
   "metadata": {},
   "outputs": [
    {
     "name": "stdout",
     "output_type": "stream",
     "text": [
      "Coupling cutoff = 2\n"
     ]
    },
    {
     "data": {
      "text/plain": [
       "<matplotlib.legend.Legend at 0x10fb1d9d0>"
      ]
     },
     "execution_count": 209,
     "metadata": {},
     "output_type": "execute_result"
    },
    {
     "data": {
      "image/png": "[encoded data removed]",
      "text/plain": [
       "<matplotlib.figure.Figure at 0x10f5d93d0>"
      ]
     },
     "metadata": {},
     "output_type": "display_data"
    }
   ],
   "source": [
    "# is there a significant difference in citations between high- and low-coupling innovative papers?\n",
    "# (split at 10)\n",
    "couplingCutoff = 2\n",
    "print \"Coupling cutoff =\",couplingCutoff\n",
    "periphery = citationDataInnovativeID['bibliographic coupling at publication'] < couplingCutoff\n",
    "core = citationDataInnovativeID['bibliographic coupling at publication'] > couplingCutoff\n",
    "citationsPeriphery = citationDataInnovativeID.loc[periphery]['Citations per Year']\n",
    "citationsCore = citationDataInnovativeID.loc[core]['Citations per Year']\n",
    "\n",
    "cdfPlot(citationsCore,citationsPeriphery)\n",
    "pylab.xlabel('Citations per Year')\n",
    "pylab.legend(['','core','periphery'],loc=4)"
   ]
  },
  {
   "cell_type": "code",
   "execution_count": 210,
   "metadata": {},
   "outputs": [
    {
     "data": {
      "text/html": [
       "<div>\n",
       "<style>\n",
       "    .dataframe thead tr:only-child th {\n",
       "        text-align: right;\n",
       "    }\n",
       "\n",
       "    .dataframe thead th {\n",
       "        text-align: left;\n",
       "    }\n",
       "\n",
       "    .dataframe tbody tr th {\n",
       "        vertical-align: top;\n",
       "    }\n",
       "</style>\n",
       "<table border=\"1\" class=\"dataframe\">\n",
       "  <thead>\n",
       "    <tr style=\"text-align: right;\">\n",
       "      <th></th>\n",
       "      <th>First Author</th>\n",
       "      <th>Year</th>\n",
       "      <th>Citations</th>\n",
       "      <th>Unnamed: 4</th>\n",
       "      <th>Years since 2018</th>\n",
       "      <th>Citations per Year</th>\n",
       "      <th>Unnamed: 7</th>\n",
       "      <th>Average Citations Per Year</th>\n",
       "      <th>bibliographic coupling</th>\n",
       "      <th>bibliographic coupling at publication</th>\n",
       "    </tr>\n",
       "    <tr>\n",
       "      <th>ID numbers</th>\n",
       "      <th></th>\n",
       "      <th></th>\n",
       "      <th></th>\n",
       "      <th></th>\n",
       "      <th></th>\n",
       "      <th></th>\n",
       "      <th></th>\n",
       "      <th></th>\n",
       "      <th></th>\n",
       "      <th></th>\n",
       "    </tr>\n",
       "  </thead>\n",
       "  <tbody>\n",
       "    <tr>\n",
       "      <th>41</th>\n",
       "      <td>carlsson</td>\n",
       "      <td>2012</td>\n",
       "      <td>760</td>\n",
       "      <td>NaN</td>\n",
       "      <td>6</td>\n",
       "      <td>126.666667</td>\n",
       "      <td>NaN</td>\n",
       "      <td>NaN</td>\n",
       "      <td>63</td>\n",
       "      <td>44.0</td>\n",
       "    </tr>\n",
       "    <tr>\n",
       "      <th>4778</th>\n",
       "      <td>zhang</td>\n",
       "      <td>2009</td>\n",
       "      <td>1401</td>\n",
       "      <td>NaN</td>\n",
       "      <td>9</td>\n",
       "      <td>155.666667</td>\n",
       "      <td>NaN</td>\n",
       "      <td>NaN</td>\n",
       "      <td>1</td>\n",
       "      <td>0.0</td>\n",
       "    </tr>\n",
       "  </tbody>\n",
       "</table>\n",
       "</div>"
      ],
      "text/plain": [
       "           First Author  Year  Citations  Unnamed: 4  Years since 2018  \\\n",
       "ID numbers                                                               \n",
       "41             carlsson  2012        760         NaN                 6   \n",
       "4778              zhang  2009       1401         NaN                 9   \n",
       "\n",
       "            Citations per Year  Unnamed: 7  Average Citations Per Year  \\\n",
       "ID numbers                                                               \n",
       "41                  126.666667         NaN                         NaN   \n",
       "4778                155.666667         NaN                         NaN   \n",
       "\n",
       "            bibliographic coupling  bibliographic coupling at publication  \n",
       "ID numbers                                                                 \n",
       "41                              63                                   44.0  \n",
       "4778                             1                                    0.0  "
      ]
     },
     "execution_count": 210,
     "metadata": {},
     "output_type": "execute_result"
    }
   ],
   "source": [
    "citationDataInnovativeID.loc[citationDataInnovativeID['Citations per Year']>100]"
   ]
  },
  {
   "cell_type": "code",
   "execution_count": null,
   "metadata": {
    "collapsed": true
   },
   "outputs": [],
   "source": []
  }
 ],
 "metadata": {
  "kernelspec": {
   "display_name": "Python 2",
   "language": "python",
   "name": "python2"
  },
  "language_info": {
   "codemirror_mode": {
    "name": "ipython",
    "version": 2
   },
   "file_extension": ".py",
   "mimetype": "text/x-python",
   "name": "python",
   "nbconvert_exporter": "python",
   "pygments_lexer": "ipython2",
   "version": "2.7.13"
  }
 },
 "nbformat": 4,
 "nbformat_minor": 2
}
